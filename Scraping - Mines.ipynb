{
 "cells": [
  {
   "cell_type": "markdown",
   "metadata": {},
   "source": [
    "# Mine Safety\n",
    "\n",
    "We're interested in [US mine safety](https://arlweb.msha.gov/drs/drshome.htm#MID), thank goodness we can search for these things."
   ]
  },
  {
   "cell_type": "markdown",
   "metadata": {},
   "source": [
    "## Preparation: Knowing your tags\n",
    "\n",
    "These questions are the same for every data set, and might not work exactly for yours.\n",
    "\n",
    "**Search for every operator with 'dirt' in their name, including abandoned mines.**"
   ]
  },
  {
   "cell_type": "markdown",
   "metadata": {},
   "source": [
    "### What is the tag and class name for every row of data?"
   ]
  },
  {
   "cell_type": "code",
   "execution_count": 2,
   "metadata": {
    "collapsed": true
   },
   "outputs": [],
   "source": [
    "#tag = <tr>, class_name = no class name\n"
   ]
  },
  {
   "cell_type": "code",
   "execution_count": 9,
   "metadata": {
    "collapsed": true
   },
   "outputs": [],
   "source": [
    "import requests\n",
    "from bs4 import BeautifulSoup"
   ]
  },
  {
   "cell_type": "code",
   "execution_count": 10,
   "metadata": {
    "scrolled": false
   },
   "outputs": [],
   "source": [
    "data ={\n",
    "   'OperSearch': 'dirt',\n",
    "   'MineName': '',\n",
    "   'StateSearch': 'None',\n",
    "   'CM': 'All',\n",
    "   'x': '6',\n",
    "   'y': '5',\n",
    "   'MC': 'Opersearch'\n",
    "}\n",
    "\n",
    "url = \"https://arlweb.msha.gov/drs/ASP/OprNameStatesearch.asp\"\n",
    "response = requests.post(url, data=data)"
   ]
  },
  {
   "cell_type": "code",
   "execution_count": 13,
   "metadata": {},
   "outputs": [],
   "source": [
    "doc = BeautifulSoup(response.text, 'html.parser')"
   ]
  },
  {
   "cell_type": "code",
   "execution_count": 16,
   "metadata": {},
   "outputs": [
    {
     "data": {
      "text/plain": [
       "'\\nTotal Number of Mines Found:\\xa0\\xa0129'"
      ]
     },
     "execution_count": 16,
     "metadata": {},
     "output_type": "execute_result"
    }
   ],
   "source": [
    "doc.find_all('tr')[-1].text"
   ]
  },
  {
   "cell_type": "markdown",
   "metadata": {},
   "source": [
    "### What is the tag and class name for every mine operator's name?"
   ]
  },
  {
   "cell_type": "code",
   "execution_count": 12,
   "metadata": {
    "collapsed": true
   },
   "outputs": [],
   "source": [
    "#tag_name = <td><font>, class_name = no class name\n",
    "mine_operator = doc.find_all('tr')\n",
    "\n",
    "#for name in mine_operater[:3]:\n",
    "    #print(\"This is the tag and class name\")\n",
    "    #print(name)"
   ]
  },
  {
   "cell_type": "markdown",
   "metadata": {},
   "source": [
    "### What is the tag and class name for every mine's name?"
   ]
  },
  {
   "cell_type": "code",
   "execution_count": null,
   "metadata": {
    "collapsed": true
   },
   "outputs": [],
   "source": [
    "tag_name = <td><font>, class_name = no class name"
   ]
  },
  {
   "cell_type": "markdown",
   "metadata": {},
   "source": [
    "### What is the tag and class name for every mine operator's name?"
   ]
  },
  {
   "cell_type": "code",
   "execution_count": null,
   "metadata": {
    "collapsed": true
   },
   "outputs": [],
   "source": [
    "operator_tag_name = <font style=\"FONT-SIZE:.75em;\">, operater_class_name = no class name"
   ]
  },
  {
   "cell_type": "markdown",
   "metadata": {},
   "source": [
    "### What is the tag and class name for every mine operator's name?"
   ]
  },
  {
   "cell_type": "markdown",
   "metadata": {},
   "source": [
    "## Being lazy\n",
    "\n",
    "If you only needed these results, what would you do instead of scraping them?"
   ]
  },
  {
   "cell_type": "code",
   "execution_count": null,
   "metadata": {
    "collapsed": true
   },
   "outputs": [],
   "source": [
    "copy and paste the table into Excel"
   ]
  },
  {
   "cell_type": "markdown",
   "metadata": {},
   "source": [
    "## Setup: Import what you'll need to scrape the page\n",
    "\n",
    "Use `requests`, not `urllib`."
   ]
  },
  {
   "cell_type": "code",
   "execution_count": 1,
   "metadata": {
    "collapsed": true
   },
   "outputs": [],
   "source": [
    "from bs4 import BeautifulSoup\n",
    "import requests"
   ]
  },
  {
   "cell_type": "markdown",
   "metadata": {},
   "source": [
    "## Try to scrape the page\n",
    "\n",
    "To test if you requested the page correctly, save the BeautifulSoup document as `doc` and run the code `doc.find_all('tr')[-1].text` to get the text of the last `<tr>` element.\n",
    "\n",
    "- If the result starts with **Total Number of Mines Found**, you were successful."
   ]
  },
  {
   "cell_type": "code",
   "execution_count": 14,
   "metadata": {},
   "outputs": [
    {
     "data": {
      "text/plain": [
       "{\"language_codes\":{\"client\":\"de\",\"iso\":\"de\",\"english_name\":\"German\",\"direction\":\"ltr\",\"script\":\"Latin\",\"alternate\":[\"de\",\"deu\",\"ger\"]},\"top_services\":{\"desktop\":[\"facebook\",\"twitter\",\"print\",\"google_plusone_share\",\"pinterest_share\",\"reddit\",\"linkedin\",\"mailto\",\"tumblr\",\"email\"],\"mobile\":[\"facebook\",\"whatsapp\",\"twitter\",\"mailto\",\"google_plusone_share\",\"pinterest_share\",\"print\",\"google\",\"linkedin\",\"tumblr\"]},\"strings\":[\"Lesezeichen / Weitersagen\",\"Mehr...\",\"Weiterempfehlen\",\"E-Mail\",\"Favoriten\",\"Mehrere Adressen? Mit Kommas abtrennen.\",\"An\",\"Von\",\"Hinweis\",\"Datenschutz: Wir werden niemals Ihre persönlichen Daten weitergeben.\",\"Senden\",\"Bitte geben Sie eine gültige E-Mail-Adresse an.\",\"Nachricht gesendet!\",\"gebe\",\"Wählen aus diesen Feeds:\",\"Nicht nachfragen, gleich zum Reader.\",\"Fertig\",\"Holen Sie sich Ihre eigene Taste!\",\"E-Mail-Adresse\",\"optional\",\"255 Zeichen begrenzt\",\"Drucken\",\"Was ist das?\",\"Datenschutz\",\"Adressbuch benutzen\",\"Abbrechen\",\"Melde dich an um zu den Kontakten zu gelangen\",\"Benutzername\",\"Passwort\",\"Kennwort merken\",\"Anmelden\",\"Adressbuch auswählen\",\"Fehler beim Anmelden\",\"Maximal 5 Empfänger\",\"Finde Dienst\",\"Kein passender Dienst\",\"Erneut teilen\",\"Abmelden\",\"Empfange Kontakte...\",\"Schlage einen Dienst vor\",\"Teilen erfolgreich!\",\"Einfacher Weiterempfehlen mit AddThis für Firefox.\",\"Herunterladen\",\"Diese nicht anzeigen\",\"Nachricht wird gesendet ...\",\"Bitte <a href='\\\"#\\\"' id='\\\"at16ecmc\\\"' onclick='\\\"_atw.rse();_atw.cef();return' target='\\\"_blank\\\"' true\\\"=\"\">klicken Sie hier</a> zu bestätigen, dass Sie ein Echtzeit-Live-Person.\",\"Einstellungen\",\"Leider konnten wir nicht senden Sie diese E-Mail. Bitte versuchen Sie es in ein paar Minuten.\",\"Bitte helfen Sie uns verhindern, dass unerwünschte E-Mail!\",\"Bitte beide Wörter eingeben:\",\"Bitte geben Sie eine gültige Antwort.\",\"Sorry, war Ihre Antwort falsch.\",\"Anmeldung anpassen\",\"Thema\",\"senden Sie diese E-Mail mit verschiedenen Diensten\",\"Geben Sie die Laufschrift\",\"Anmeldung und machen gemeinsam leichter\",\"ein Video\",\"Erfolgreich angemeldet!\",\"Schließen des Fensters in XXX Sekunden ...\",\"Individualisieren\",\"Darstellung\",\"E-Mail senden\",\"Reaktion\",\"Teile eine Idee, einen Fehler melden, oder lassen Sie es uns wissen, was Sie denken.\",\"Brauchen Sie Hilfe?\",\"Feedback Senden\",\"Alle Verfügbaren Dienste\",\"my favorite Dienstleistungen\",\"Dienste zurücksetzen auf Standardwerte\",\"Hinzufügen\",\"Entfernen\",\"Änderungen speichern\",\"Personalisieren AddThis indem Sie bis zu 10 Ihrer Lieblingsplätze zu teilen.\",\"\",\"\",\"Machen Sie teilen einfach mit dem AddThis Toolbar\",\"So beenden Sie keine E-Mails von AddThis besuchen Sie bitte\",\"Gesendet\",\"Ihr Feedback ist uns sehr wichtig.\",\"Vielen Dank, dass Sie AddThis verwenden.\",\"Hallo\",\"Schließen sozialen Konten Instant Share für Twitter und Facebook zu aktivieren.\",\"Video ansehen\",\"Alle Konten können verwendet werden, um sich anzumelden und Zugriff auf den Rest.\",\"Schließen Sie ein anderes Konto.\",\"Wir wären traurig, Sie gehen zu sehen, aber Sie können Ihr Konto jederzeit löschen.\",\"Löschen Sie Konto.\",\"Trennen\",\"Umordnen Sie, diese Liste mit Pfeilen. \",\"Weiterempfehlen\",\"Bitte geben Sie eine kürzere Note.\",\"Wir waren nicht in der Lage, Ihre e-Mail zu senden.\",\"OK\",\"Hoppla\",\"Folgen\",\"Danke für's Teilen\",\"Danke für's Folgen\",\"Weitere Empfehlungen\",\"Teilen bei [x]\",\" Folgen bei [x]\",\"Bitte geben Sie Ihre E-Mail-Adresse ein\",\"Ihre E-Mail\",\"Durch Klicken der Taste oben stimmen Sie zu, dass die vorstehenden Informationen an die AddThis US-Server geschickt werden.\",\"\",\"\",\"\",\"\",\"\",\"\",\"\",\"\",\"\"]}"
      ]
     },
     "execution_count": 14,
     "metadata": {},
     "output_type": "execute_result"
    }
   ],
   "source": [
    "response = requests.get('https://s7.addthis.com/l10n/client.de.min.json')\n",
    "doc = BeautifulSoup(response.text, 'html.parser')\n",
    "doc"
   ]
  },
  {
   "cell_type": "code",
   "execution_count": 10,
   "metadata": {},
   "outputs": [
    {
     "data": {
      "text/plain": [
       "'\\n\\nOperator Name or Mine Name Search\\n\\xa0'"
      ]
     },
     "execution_count": 10,
     "metadata": {},
     "output_type": "execute_result"
    }
   ],
   "source": [
    "doc.find_all('tr')[-1].text"
   ]
  },
  {
   "cell_type": "code",
   "execution_count": null,
   "metadata": {
    "collapsed": true
   },
   "outputs": [],
   "source": []
  },
  {
   "cell_type": "code",
   "execution_count": null,
   "metadata": {
    "collapsed": true
   },
   "outputs": [],
   "source": []
  },
  {
   "cell_type": "markdown",
   "metadata": {},
   "source": [
    "## Actually scraping"
   ]
  },
  {
   "cell_type": "markdown",
   "metadata": {},
   "source": [
    "### Hopefully you know that each `tr` is supposed to be your data. What is the index of the first row element that is actually a result?\n",
    "\n",
    "`.text` will help you here."
   ]
  },
  {
   "cell_type": "code",
   "execution_count": null,
   "metadata": {
    "collapsed": true
   },
   "outputs": [],
   "source": []
  },
  {
   "cell_type": "code",
   "execution_count": null,
   "metadata": {
    "collapsed": true
   },
   "outputs": [],
   "source": []
  },
  {
   "cell_type": "markdown",
   "metadata": {},
   "source": [
    "### Loop through each operator result, printing its name\n",
    "\n",
    "Use LIST SLICING to skip the non-data row(s)."
   ]
  },
  {
   "cell_type": "code",
   "execution_count": null,
   "metadata": {
    "collapsed": true
   },
   "outputs": [],
   "source": []
  },
  {
   "cell_type": "markdown",
   "metadata": {},
   "source": [
    "### Loop through each operator result, printing its ID\n",
    "\n",
    "There should be ONE code per row, and NO empty rows between them."
   ]
  },
  {
   "cell_type": "code",
   "execution_count": null,
   "metadata": {
    "collapsed": true
   },
   "outputs": [],
   "source": []
  },
  {
   "cell_type": "markdown",
   "metadata": {},
   "source": [
    "## Saving the results\n",
    "\n",
    "### Loop through each `tr` to create a list of dictionaries\n",
    "\n",
    "Each dictionary must contain\n",
    "\n",
    "- Operator ID\n",
    "- Operator name\n",
    "- Mine name\n",
    "- State\n",
    "- Mine type\n",
    "- Coal or metal\n",
    "- Status\n",
    "- Commodity\n",
    "\n",
    "Create a new dictionary for each row."
   ]
  },
  {
   "cell_type": "code",
   "execution_count": null,
   "metadata": {
    "collapsed": true
   },
   "outputs": [],
   "source": []
  },
  {
   "cell_type": "markdown",
   "metadata": {},
   "source": [
    "### Save that to a CSV"
   ]
  },
  {
   "cell_type": "code",
   "execution_count": null,
   "metadata": {
    "collapsed": true
   },
   "outputs": [],
   "source": []
  },
  {
   "cell_type": "markdown",
   "metadata": {},
   "source": [
    "### Open the CSV file and examine the first few. Make sure you didn't save an extra weird unnamed column."
   ]
  },
  {
   "cell_type": "code",
   "execution_count": null,
   "metadata": {
    "collapsed": true
   },
   "outputs": [],
   "source": []
  }
 ],
 "metadata": {
  "kernelspec": {
   "display_name": "Python 3",
   "language": "python",
   "name": "python3"
  },
  "language_info": {
   "codemirror_mode": {
    "name": "ipython",
    "version": 3
   },
   "file_extension": ".py",
   "mimetype": "text/x-python",
   "name": "python",
   "nbconvert_exporter": "python",
   "pygments_lexer": "ipython3",
   "version": "3.6.1"
  }
 },
 "nbformat": 4,
 "nbformat_minor": 2
}
