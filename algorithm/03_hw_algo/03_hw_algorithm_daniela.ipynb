{
 "cells": [
  {
   "cell_type": "markdown",
   "metadata": {},
   "source": [
    "## Cronjobs"
   ]
  },
  {
   "cell_type": "code",
   "execution_count": 26,
   "metadata": {},
   "outputs": [
    {
     "name": "stdout",
     "output_type": "stream",
     "text": [
      "[{'headline': 'BMW fühlt sich von Daimler hintergangen', 'byline': 'Von Thomas Fromm, Max Hägler und Klaus Ott'}, {'headline': 'McCain rettet Gesundheitsreform der Republikaner vor dem Aus', 'byline': 'Von Johannes Kuhn'}, {'headline': 'Männer produzieren weniger Spermien', 'byline': 'Von Werner Bartens'}, {'headline': 'Video\\n\\nDeutscher Wetterdienst warnt vor \"beeindruckenden Regenmengen\"'}, {'headline': 'Mourinho spottet über Guardiolas Kaufrausch'}, {'headline': 'Kettensägen-Angriff von Schaffhausen: Tatverdächtiger gefasst'}, {'headline': 'Giftige Schuhe, stinkende Handtaschen', 'byline': 'Von Carolin Wahnbaeck'}, {'headline': 'Wenn das Kleinkind das Smartphone kapert', 'byline': 'Von Lara Fritzsche'}]\n"
     ]
    }
   ],
   "source": [
    "import requests\n",
    "from bs4 import BeautifulSoup\n",
    "import pandas as pd\n",
    "import time\n",
    "\n",
    "response = requests.get(\"http://www.sueddeutsche.de\")\n",
    "doc = BeautifulSoup(response.text, 'html.parser')\n",
    "\n",
    "stories = doc.find_all(\"div\", {'class': 'teaser top nooverline'})\n",
    "\n",
    "all_stories = []\n",
    "# Grab their headlines and bylines\n",
    "for story in stories:\n",
    "    # Grab all of the h2's inside of the story\n",
    "    headline = story.find('a', {'class': 'entry-title'})\n",
    "    # If a headline exists, then process the rest!\n",
    "    if headline:\n",
    "        # They're COVERED in whitespace\n",
    "        headline_text = headline.text.strip()\n",
    "        # Make a dictionary with the headline\n",
    "        this_story = { 'headline': headline_text }\n",
    "        byline = story.find('span', {'class': 'author'})\n",
    "        # Not all of them have a byline\n",
    "        if byline:\n",
    "            byline_text = byline.text.strip()\n",
    "            this_story['byline'] = byline_text\n",
    "        all_stories.append(this_story)\n",
    "\n",
    "print(all_stories)\n",
    "\n",
    "stories_df = pd.DataFrame(all_stories)\n",
    "stories_df.to_csv(\"sz.csv\")\n",
    "\n",
    "datestring = time.strftime(\"%Y-%m-%d-%H-%M\")\n",
    "\n",
    "filename = \"sz-\" + datestring + \".csv\"\n",
    "stories_df.to_csv(filename, index=False)"
   ]
  },
  {
   "cell_type": "code",
   "execution_count": 27,
   "metadata": {
    "collapsed": true
   },
   "outputs": [],
   "source": [
    "# it worked !!"
   ]
  },
  {
   "cell_type": "code",
   "execution_count": null,
   "metadata": {
    "collapsed": true
   },
   "outputs": [],
   "source": []
  }
 ],
 "metadata": {
  "kernelspec": {
   "display_name": "Python 3",
   "language": "python",
   "name": "python3"
  },
  "language_info": {
   "codemirror_mode": {
    "name": "ipython",
    "version": 3
   },
   "file_extension": ".py",
   "mimetype": "text/x-python",
   "name": "python",
   "nbconvert_exporter": "python",
   "pygments_lexer": "ipython3",
   "version": "3.6.1"
  }
 },
 "nbformat": 4,
 "nbformat_minor": 2
}
