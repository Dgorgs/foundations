{
 "cells": [
  {
   "cell_type": "markdown",
   "metadata": {},
   "source": [
    "# Homework - How does Tolkien sound? Which is the most angry book?"
   ]
  },
  {
   "cell_type": "code",
   "execution_count": 92,
   "metadata": {
    "collapsed": true
   },
   "outputs": [],
   "source": [
    "import pandas as pd\n",
    "%matplotlib inline\n",
    "import matplotlib.pyplot as plt\n",
    "import numpy as np\n",
    "import matplotlib\n",
    "import matplotlib.pyplot as pyplot"
   ]
  },
  {
   "cell_type": "code",
   "execution_count": 68,
   "metadata": {},
   "outputs": [
    {
     "data": {
      "text/html": [
       "<div>\n",
       "<style>\n",
       "    .dataframe thead tr:only-child th {\n",
       "        text-align: right;\n",
       "    }\n",
       "\n",
       "    .dataframe thead th {\n",
       "        text-align: left;\n",
       "    }\n",
       "\n",
       "    .dataframe tbody tr th {\n",
       "        vertical-align: top;\n",
       "    }\n",
       "</style>\n",
       "<table border=\"1\" class=\"dataframe\">\n",
       "  <thead>\n",
       "    <tr style=\"text-align: right;\">\n",
       "      <th>emotion</th>\n",
       "      <th>word</th>\n",
       "      <th>anger</th>\n",
       "      <th>anticipation</th>\n",
       "      <th>disgust</th>\n",
       "      <th>fear</th>\n",
       "      <th>joy</th>\n",
       "      <th>negative</th>\n",
       "      <th>positive</th>\n",
       "      <th>sadness</th>\n",
       "      <th>surprise</th>\n",
       "      <th>trust</th>\n",
       "    </tr>\n",
       "  </thead>\n",
       "  <tbody>\n",
       "    <tr>\n",
       "      <th>0</th>\n",
       "      <td>aback</td>\n",
       "      <td>0</td>\n",
       "      <td>0</td>\n",
       "      <td>0</td>\n",
       "      <td>0</td>\n",
       "      <td>0</td>\n",
       "      <td>0</td>\n",
       "      <td>0</td>\n",
       "      <td>0</td>\n",
       "      <td>0</td>\n",
       "      <td>0</td>\n",
       "    </tr>\n",
       "    <tr>\n",
       "      <th>1</th>\n",
       "      <td>abacus</td>\n",
       "      <td>0</td>\n",
       "      <td>0</td>\n",
       "      <td>0</td>\n",
       "      <td>0</td>\n",
       "      <td>0</td>\n",
       "      <td>0</td>\n",
       "      <td>0</td>\n",
       "      <td>0</td>\n",
       "      <td>0</td>\n",
       "      <td>1</td>\n",
       "    </tr>\n",
       "    <tr>\n",
       "      <th>2</th>\n",
       "      <td>abandon</td>\n",
       "      <td>0</td>\n",
       "      <td>0</td>\n",
       "      <td>0</td>\n",
       "      <td>1</td>\n",
       "      <td>0</td>\n",
       "      <td>1</td>\n",
       "      <td>0</td>\n",
       "      <td>1</td>\n",
       "      <td>0</td>\n",
       "      <td>0</td>\n",
       "    </tr>\n",
       "    <tr>\n",
       "      <th>3</th>\n",
       "      <td>abandoned</td>\n",
       "      <td>1</td>\n",
       "      <td>0</td>\n",
       "      <td>0</td>\n",
       "      <td>1</td>\n",
       "      <td>0</td>\n",
       "      <td>1</td>\n",
       "      <td>0</td>\n",
       "      <td>1</td>\n",
       "      <td>0</td>\n",
       "      <td>0</td>\n",
       "    </tr>\n",
       "    <tr>\n",
       "      <th>4</th>\n",
       "      <td>abandonment</td>\n",
       "      <td>1</td>\n",
       "      <td>0</td>\n",
       "      <td>0</td>\n",
       "      <td>1</td>\n",
       "      <td>0</td>\n",
       "      <td>1</td>\n",
       "      <td>0</td>\n",
       "      <td>1</td>\n",
       "      <td>1</td>\n",
       "      <td>0</td>\n",
       "    </tr>\n",
       "  </tbody>\n",
       "</table>\n",
       "</div>"
      ],
      "text/plain": [
       "emotion         word  anger  anticipation  disgust  fear  joy  negative  \\\n",
       "0              aback      0             0        0     0    0         0   \n",
       "1             abacus      0             0        0     0    0         0   \n",
       "2            abandon      0             0        0     1    0         1   \n",
       "3          abandoned      1             0        0     1    0         1   \n",
       "4        abandonment      1             0        0     1    0         1   \n",
       "\n",
       "emotion  positive  sadness  surprise  trust  \n",
       "0               0        0         0      0  \n",
       "1               0        0         0      1  \n",
       "2               0        1         0      0  \n",
       "3               0        1         0      0  \n",
       "4               0        1         1      0  "
      ]
     },
     "execution_count": 68,
     "metadata": {},
     "output_type": "execute_result"
    }
   ],
   "source": [
    "filepath = \"NRC-Emotion-Lexicon-v0.92/NRC-emotion-lexicon-wordlevel-alphabetized-v0.92.txt\"\n",
    "emolex_df = pd.read_csv(filepath,  names=[\"word\", \"emotion\", \"association\"], skiprows=45, sep='\\t')\n",
    "emolex_df = emolex_df.pivot(index='word', columns='emotion', values='association').reset_index()\n",
    "emolex_df.head()"
   ]
  },
  {
   "cell_type": "code",
   "execution_count": 89,
   "metadata": {},
   "outputs": [
    {
     "data": {
      "text/plain": [
       "['tolkien/Hobbit, The - J. R. R. Tolkien - 1960.txt',\n",
       " 'tolkien/Lord of the Rings - 01 - The Fellowship of the Ring - J. R. R. Tolkien - 1955.txt',\n",
       " 'tolkien/Lord of the Rings - 02 - The Two Towers - J. R. R. Tolkien - 1965.txt',\n",
       " 'tolkien/Lord of the Rings - 03 - The Return of the King - J. R. R. Tolkien - 1965.txt']"
      ]
     },
     "execution_count": 89,
     "metadata": {},
     "output_type": "execute_result"
    }
   ],
   "source": [
    "import glob\n",
    "\n",
    "filenames = glob.glob(\"tolkien/*.txt\")\n",
    "filenames[:4]"
   ]
  },
  {
   "cell_type": "code",
   "execution_count": 16,
   "metadata": {},
   "outputs": [
    {
     "data": {
      "text/plain": [
       "4"
      ]
     },
     "execution_count": 16,
     "metadata": {},
     "output_type": "execute_result"
    }
   ],
   "source": [
    "the_rings = [open(filename).read() for filename in filenames]\n",
    "len(the_rings)"
   ]
  },
  {
   "cell_type": "code",
   "execution_count": 17,
   "metadata": {},
   "outputs": [
    {
     "data": {
      "text/html": [
       "<div>\n",
       "<style>\n",
       "    .dataframe thead tr:only-child th {\n",
       "        text-align: right;\n",
       "    }\n",
       "\n",
       "    .dataframe thead th {\n",
       "        text-align: left;\n",
       "    }\n",
       "\n",
       "    .dataframe tbody tr th {\n",
       "        vertical-align: top;\n",
       "    }\n",
       "</style>\n",
       "<table border=\"1\" class=\"dataframe\">\n",
       "  <thead>\n",
       "    <tr style=\"text-align: right;\">\n",
       "      <th></th>\n",
       "      <th>filename</th>\n",
       "      <th>text</th>\n",
       "    </tr>\n",
       "  </thead>\n",
       "  <tbody>\n",
       "    <tr>\n",
       "      <th>0</th>\n",
       "      <td>tolkien/Hobbit, The - J. R. R. Tolkien - 1960.txt</td>\n",
       "      <td>THE HOBBIT\\n\\nOR\\n\\nTHERE AND BACK AGAIN\\n\\nBY...</td>\n",
       "    </tr>\n",
       "    <tr>\n",
       "      <th>1</th>\n",
       "      <td>tolkien/Lord of the Rings - 01 - The Fellowshi...</td>\n",
       "      <td>THE FELLOWSHIP OF THE RING\\n\\n\\n\\n\\nBEING THE ...</td>\n",
       "    </tr>\n",
       "    <tr>\n",
       "      <th>2</th>\n",
       "      <td>tolkien/Lord of the Rings - 02 - The Two Tower...</td>\n",
       "      <td>THE TWO TOWERS\\n\\n\\nBEING THE SECOND PART OF\\n...</td>\n",
       "    </tr>\n",
       "    <tr>\n",
       "      <th>3</th>\n",
       "      <td>tolkien/Lord of the Rings - 03 - The Return of...</td>\n",
       "      <td>THE RETURN\\n\\nOF THE KING\\n\\n\\n\\n\\nBEING THE T...</td>\n",
       "    </tr>\n",
       "  </tbody>\n",
       "</table>\n",
       "</div>"
      ],
      "text/plain": [
       "                                            filename  \\\n",
       "0  tolkien/Hobbit, The - J. R. R. Tolkien - 1960.txt   \n",
       "1  tolkien/Lord of the Rings - 01 - The Fellowshi...   \n",
       "2  tolkien/Lord of the Rings - 02 - The Two Tower...   \n",
       "3  tolkien/Lord of the Rings - 03 - The Return of...   \n",
       "\n",
       "                                                text  \n",
       "0  THE HOBBIT\\n\\nOR\\n\\nTHERE AND BACK AGAIN\\n\\nBY...  \n",
       "1  THE FELLOWSHIP OF THE RING\\n\\n\\n\\n\\nBEING THE ...  \n",
       "2  THE TWO TOWERS\\n\\n\\nBEING THE SECOND PART OF\\n...  \n",
       "3  THE RETURN\\n\\nOF THE KING\\n\\n\\n\\n\\nBEING THE T...  "
      ]
     },
     "execution_count": 17,
     "metadata": {},
     "output_type": "execute_result"
    }
   ],
   "source": [
    "the_rings_df = pd.DataFrame({\n",
    "    'text': the_rings,\n",
    "    'filename': filenames\n",
    "})\n",
    "the_rings_df.head(4)"
   ]
  },
  {
   "cell_type": "code",
   "execution_count": 70,
   "metadata": {},
   "outputs": [
    {
     "data": {
      "text/html": [
       "<div>\n",
       "<style>\n",
       "    .dataframe thead tr:only-child th {\n",
       "        text-align: right;\n",
       "    }\n",
       "\n",
       "    .dataframe thead th {\n",
       "        text-align: left;\n",
       "    }\n",
       "\n",
       "    .dataframe tbody tr th {\n",
       "        vertical-align: top;\n",
       "    }\n",
       "</style>\n",
       "<table border=\"1\" class=\"dataframe\">\n",
       "  <thead>\n",
       "    <tr style=\"text-align: right;\">\n",
       "      <th></th>\n",
       "      <th>aback</th>\n",
       "      <th>abacus</th>\n",
       "      <th>abandon</th>\n",
       "      <th>abandoned</th>\n",
       "      <th>abandonment</th>\n",
       "      <th>abate</th>\n",
       "      <th>abatement</th>\n",
       "      <th>abba</th>\n",
       "      <th>abbot</th>\n",
       "      <th>abbreviate</th>\n",
       "      <th>...</th>\n",
       "      <th>zephyr</th>\n",
       "      <th>zeppelin</th>\n",
       "      <th>zest</th>\n",
       "      <th>zip</th>\n",
       "      <th>zodiac</th>\n",
       "      <th>zone</th>\n",
       "      <th>zoo</th>\n",
       "      <th>zoological</th>\n",
       "      <th>zoology</th>\n",
       "      <th>zoom</th>\n",
       "    </tr>\n",
       "  </thead>\n",
       "  <tbody>\n",
       "    <tr>\n",
       "      <th>0</th>\n",
       "      <td>0.000049</td>\n",
       "      <td>0.0</td>\n",
       "      <td>0.000000</td>\n",
       "      <td>0.000000</td>\n",
       "      <td>0.000000</td>\n",
       "      <td>0.000000</td>\n",
       "      <td>0.0</td>\n",
       "      <td>0.0</td>\n",
       "      <td>0.0</td>\n",
       "      <td>0.000000</td>\n",
       "      <td>...</td>\n",
       "      <td>0.0</td>\n",
       "      <td>0.0</td>\n",
       "      <td>0.0</td>\n",
       "      <td>0.0</td>\n",
       "      <td>0.0</td>\n",
       "      <td>0.0</td>\n",
       "      <td>0.0</td>\n",
       "      <td>0.0</td>\n",
       "      <td>0.0</td>\n",
       "      <td>0.0</td>\n",
       "    </tr>\n",
       "    <tr>\n",
       "      <th>1</th>\n",
       "      <td>0.000000</td>\n",
       "      <td>0.0</td>\n",
       "      <td>0.000074</td>\n",
       "      <td>0.000124</td>\n",
       "      <td>0.000000</td>\n",
       "      <td>0.000000</td>\n",
       "      <td>0.0</td>\n",
       "      <td>0.0</td>\n",
       "      <td>0.0</td>\n",
       "      <td>0.000000</td>\n",
       "      <td>...</td>\n",
       "      <td>0.0</td>\n",
       "      <td>0.0</td>\n",
       "      <td>0.0</td>\n",
       "      <td>0.0</td>\n",
       "      <td>0.0</td>\n",
       "      <td>0.0</td>\n",
       "      <td>0.0</td>\n",
       "      <td>0.0</td>\n",
       "      <td>0.0</td>\n",
       "      <td>0.0</td>\n",
       "    </tr>\n",
       "    <tr>\n",
       "      <th>2</th>\n",
       "      <td>0.000000</td>\n",
       "      <td>0.0</td>\n",
       "      <td>0.000093</td>\n",
       "      <td>0.000000</td>\n",
       "      <td>0.000000</td>\n",
       "      <td>0.000000</td>\n",
       "      <td>0.0</td>\n",
       "      <td>0.0</td>\n",
       "      <td>0.0</td>\n",
       "      <td>0.000000</td>\n",
       "      <td>...</td>\n",
       "      <td>0.0</td>\n",
       "      <td>0.0</td>\n",
       "      <td>0.0</td>\n",
       "      <td>0.0</td>\n",
       "      <td>0.0</td>\n",
       "      <td>0.0</td>\n",
       "      <td>0.0</td>\n",
       "      <td>0.0</td>\n",
       "      <td>0.0</td>\n",
       "      <td>0.0</td>\n",
       "    </tr>\n",
       "    <tr>\n",
       "      <th>3</th>\n",
       "      <td>0.000024</td>\n",
       "      <td>0.0</td>\n",
       "      <td>0.000049</td>\n",
       "      <td>0.000098</td>\n",
       "      <td>0.000024</td>\n",
       "      <td>0.000024</td>\n",
       "      <td>0.0</td>\n",
       "      <td>0.0</td>\n",
       "      <td>0.0</td>\n",
       "      <td>0.000024</td>\n",
       "      <td>...</td>\n",
       "      <td>0.0</td>\n",
       "      <td>0.0</td>\n",
       "      <td>0.0</td>\n",
       "      <td>0.0</td>\n",
       "      <td>0.0</td>\n",
       "      <td>0.0</td>\n",
       "      <td>0.0</td>\n",
       "      <td>0.0</td>\n",
       "      <td>0.0</td>\n",
       "      <td>0.0</td>\n",
       "    </tr>\n",
       "  </tbody>\n",
       "</table>\n",
       "<p>4 rows × 14182 columns</p>\n",
       "</div>"
      ],
      "text/plain": [
       "      aback  abacus   abandon  abandoned  abandonment     abate  abatement  \\\n",
       "0  0.000049     0.0  0.000000   0.000000     0.000000  0.000000        0.0   \n",
       "1  0.000000     0.0  0.000074   0.000124     0.000000  0.000000        0.0   \n",
       "2  0.000000     0.0  0.000093   0.000000     0.000000  0.000000        0.0   \n",
       "3  0.000024     0.0  0.000049   0.000098     0.000024  0.000024        0.0   \n",
       "\n",
       "   abba  abbot  abbreviate  ...   zephyr  zeppelin  zest  zip  zodiac  zone  \\\n",
       "0   0.0    0.0    0.000000  ...      0.0       0.0   0.0  0.0     0.0   0.0   \n",
       "1   0.0    0.0    0.000000  ...      0.0       0.0   0.0  0.0     0.0   0.0   \n",
       "2   0.0    0.0    0.000000  ...      0.0       0.0   0.0  0.0     0.0   0.0   \n",
       "3   0.0    0.0    0.000024  ...      0.0       0.0   0.0  0.0     0.0   0.0   \n",
       "\n",
       "   zoo  zoological  zoology  zoom  \n",
       "0  0.0         0.0      0.0   0.0  \n",
       "1  0.0         0.0      0.0   0.0  \n",
       "2  0.0         0.0      0.0   0.0  \n",
       "3  0.0         0.0      0.0   0.0  \n",
       "\n",
       "[4 rows x 14182 columns]"
      ]
     },
     "execution_count": 70,
     "metadata": {},
     "output_type": "execute_result"
    }
   ],
   "source": [
    "from sklearn.feature_extraction.text import TfidfVectorizer\n",
    "\n",
    "vec = TfidfVectorizer(vocabulary=emolex_df.word,\n",
    "                      use_idf=False,\n",
    "                      norm='l1') # ELL ONE\n",
    "\n",
    "matrix = vec.fit_transform(the_rings_df['text'])\n",
    "vocab = vec.get_feature_names()\n",
    "wordcount_df = pd.DataFrame(matrix.toarray(), columns=vocab)\n",
    "wordcount_df.head()"
   ]
  },
  {
   "cell_type": "code",
   "execution_count": 71,
   "metadata": {},
   "outputs": [
    {
     "data": {
      "text/plain": [
       "0    0.002952\n",
       "1    0.003409\n",
       "2    0.004386\n",
       "3    0.003884\n",
       "dtype: float64"
      ]
     },
     "execution_count": 71,
     "metadata": {},
     "output_type": "execute_result"
    }
   ],
   "source": [
    "wordcount_df[['awful', 'hate', 'bad', 'worse', 'evil']].sum(axis=1)"
   ]
  },
  {
   "cell_type": "code",
   "execution_count": 72,
   "metadata": {},
   "outputs": [
    {
     "data": {
      "text/plain": [
       "0    0.002952\n",
       "1    0.003409\n",
       "2    0.004386\n",
       "3    0.003884\n",
       "Name: negative, dtype: float64"
      ]
     },
     "execution_count": 72,
     "metadata": {},
     "output_type": "execute_result"
    }
   ],
   "source": [
    "the_rings_df['negative'] = wordcount_df[['awful', 'hate', 'bad', 'worse', 'evil']].sum(axis=1)\n",
    "the_rings_df['negative']"
   ]
  },
  {
   "cell_type": "code",
   "execution_count": 74,
   "metadata": {},
   "outputs": [
    {
     "data": {
      "text/html": [
       "<div>\n",
       "<style>\n",
       "    .dataframe thead tr:only-child th {\n",
       "        text-align: right;\n",
       "    }\n",
       "\n",
       "    .dataframe thead th {\n",
       "        text-align: left;\n",
       "    }\n",
       "\n",
       "    .dataframe tbody tr th {\n",
       "        vertical-align: top;\n",
       "    }\n",
       "</style>\n",
       "<table border=\"1\" class=\"dataframe\">\n",
       "  <thead>\n",
       "    <tr style=\"text-align: right;\">\n",
       "      <th></th>\n",
       "      <th>filename</th>\n",
       "      <th>text</th>\n",
       "      <th>name</th>\n",
       "      <th>content</th>\n",
       "      <th>negative</th>\n",
       "    </tr>\n",
       "  </thead>\n",
       "  <tbody>\n",
       "    <tr>\n",
       "      <th>0</th>\n",
       "      <td>tolkien/Hobbit, The - J. R. R. Tolkien - 1960.txt</td>\n",
       "      <td>THE HOBBIT\\n\\nOR\\n\\nTHERE AND BACK AGAIN\\n\\nBY...</td>\n",
       "      <td>THE HOBBIT</td>\n",
       "      <td></td>\n",
       "      <td>0.002952</td>\n",
       "    </tr>\n",
       "    <tr>\n",
       "      <th>1</th>\n",
       "      <td>tolkien/Lord of the Rings - 01 - The Fellowshi...</td>\n",
       "      <td>THE FELLOWSHIP OF THE RING\\n\\n\\n\\n\\nBEING THE ...</td>\n",
       "      <td>THE FELLOWSHIP OF THE RING</td>\n",
       "      <td></td>\n",
       "      <td>0.003409</td>\n",
       "    </tr>\n",
       "    <tr>\n",
       "      <th>2</th>\n",
       "      <td>tolkien/Lord of the Rings - 02 - The Two Tower...</td>\n",
       "      <td>THE TWO TOWERS\\n\\n\\nBEING THE SECOND PART OF\\n...</td>\n",
       "      <td>THE TWO TOWERS</td>\n",
       "      <td></td>\n",
       "      <td>0.004386</td>\n",
       "    </tr>\n",
       "    <tr>\n",
       "      <th>3</th>\n",
       "      <td>tolkien/Lord of the Rings - 03 - The Return of...</td>\n",
       "      <td>THE RETURN\\n\\nOF THE KING\\n\\n\\n\\n\\nBEING THE T...</td>\n",
       "      <td>THE RETURN</td>\n",
       "      <td></td>\n",
       "      <td>0.003884</td>\n",
       "    </tr>\n",
       "  </tbody>\n",
       "</table>\n",
       "</div>"
      ],
      "text/plain": [
       "                                            filename  \\\n",
       "0  tolkien/Hobbit, The - J. R. R. Tolkien - 1960.txt   \n",
       "1  tolkien/Lord of the Rings - 01 - The Fellowshi...   \n",
       "2  tolkien/Lord of the Rings - 02 - The Two Tower...   \n",
       "3  tolkien/Lord of the Rings - 03 - The Return of...   \n",
       "\n",
       "                                                text  \\\n",
       "0  THE HOBBIT\\n\\nOR\\n\\nTHERE AND BACK AGAIN\\n\\nBY...   \n",
       "1  THE FELLOWSHIP OF THE RING\\n\\n\\n\\n\\nBEING THE ...   \n",
       "2  THE TWO TOWERS\\n\\n\\nBEING THE SECOND PART OF\\n...   \n",
       "3  THE RETURN\\n\\nOF THE KING\\n\\n\\n\\n\\nBEING THE T...   \n",
       "\n",
       "                         name content  negative  \n",
       "0                  THE HOBBIT          0.002952  \n",
       "1  THE FELLOWSHIP OF THE RING          0.003409  \n",
       "2              THE TWO TOWERS          0.004386  \n",
       "3                  THE RETURN          0.003884  "
      ]
     },
     "execution_count": 74,
     "metadata": {},
     "output_type": "execute_result"
    }
   ],
   "source": [
    "the_rings_df"
   ]
  },
  {
   "cell_type": "code",
   "execution_count": 75,
   "metadata": {},
   "outputs": [
    {
     "data": {
      "text/plain": [
       "<matplotlib.axes._subplots.AxesSubplot at 0x10ab7e898>"
      ]
     },
     "execution_count": 75,
     "metadata": {},
     "output_type": "execute_result"
    },
    {
     "data": {
      "image/png": "[encoded data removed]",
      "text/plain": [
       "<matplotlib.figure.Figure at 0x10e873e10>"
      ]
     },
     "metadata": {},
     "output_type": "display_data"
    }
   ],
   "source": [
    "the_rings_df['negative'].plot(x='name', y='negative', label='Negative Sound')"
   ]
  },
  {
   "cell_type": "code",
   "execution_count": 90,
   "metadata": {},
   "outputs": [
    {
     "data": {
      "text/plain": [
       "3      abandoned\n",
       "4    abandonment\n",
       "Name: word, dtype: object"
      ]
     },
     "execution_count": 90,
     "metadata": {},
     "output_type": "execute_result"
    }
   ],
   "source": [
    "angry_words = emolex_df[emolex_df.anger == 1]['word']\n",
    "angry_words.head(2)"
   ]
  },
  {
   "cell_type": "code",
   "execution_count": 79,
   "metadata": {},
   "outputs": [
    {
     "data": {
      "text/plain": [
       "7               abba\n",
       "20           ability\n",
       "36    abovementioned\n",
       "48          absolute\n",
       "49        absolution\n",
       "Name: word, dtype: object"
      ]
     },
     "execution_count": 79,
     "metadata": {},
     "output_type": "execute_result"
    }
   ],
   "source": [
    "postive_words = emolex_df[emolex_df.positive == 1]['word']\n",
    "postive_words.head()"
   ]
  },
  {
   "cell_type": "code",
   "execution_count": 102,
   "metadata": {},
   "outputs": [
    {
     "data": {
      "text/html": [
       "<div>\n",
       "<style>\n",
       "    .dataframe thead tr:only-child th {\n",
       "        text-align: right;\n",
       "    }\n",
       "\n",
       "    .dataframe thead th {\n",
       "        text-align: left;\n",
       "    }\n",
       "\n",
       "    .dataframe tbody tr th {\n",
       "        vertical-align: top;\n",
       "    }\n",
       "</style>\n",
       "<table border=\"1\" class=\"dataframe\">\n",
       "  <thead>\n",
       "    <tr style=\"text-align: right;\">\n",
       "      <th></th>\n",
       "      <th>filename</th>\n",
       "      <th>text</th>\n",
       "      <th>name</th>\n",
       "      <th>content</th>\n",
       "      <th>negative</th>\n",
       "      <th>postive</th>\n",
       "      <th>positive</th>\n",
       "    </tr>\n",
       "  </thead>\n",
       "  <tbody>\n",
       "    <tr>\n",
       "      <th>0</th>\n",
       "      <td>tolkien/Hobbit, The - J. R. R. Tolkien - 1960.txt</td>\n",
       "      <td>THE HOBBIT\\n\\nOR\\n\\nTHERE AND BACK AGAIN\\n\\nBY...</td>\n",
       "      <td>THE HOBBIT</td>\n",
       "      <td></td>\n",
       "      <td>0.002952</td>\n",
       "      <td>0.002952</td>\n",
       "      <td>0.182019</td>\n",
       "    </tr>\n",
       "    <tr>\n",
       "      <th>1</th>\n",
       "      <td>tolkien/Lord of the Rings - 01 - The Fellowshi...</td>\n",
       "      <td>THE FELLOWSHIP OF THE RING\\n\\n\\n\\n\\nBEING THE ...</td>\n",
       "      <td>THE FELLOWSHIP OF THE RING</td>\n",
       "      <td></td>\n",
       "      <td>0.003409</td>\n",
       "      <td>0.003409</td>\n",
       "      <td>0.185993</td>\n",
       "    </tr>\n",
       "    <tr>\n",
       "      <th>2</th>\n",
       "      <td>tolkien/Lord of the Rings - 02 - The Two Tower...</td>\n",
       "      <td>THE TWO TOWERS\\n\\n\\nBEING THE SECOND PART OF\\n...</td>\n",
       "      <td>THE TWO TOWERS</td>\n",
       "      <td></td>\n",
       "      <td>0.004386</td>\n",
       "      <td>0.004386</td>\n",
       "      <td>0.182992</td>\n",
       "    </tr>\n",
       "    <tr>\n",
       "      <th>3</th>\n",
       "      <td>tolkien/Lord of the Rings - 03 - The Return of...</td>\n",
       "      <td>THE RETURN\\n\\nOF THE KING\\n\\n\\n\\n\\nBEING THE T...</td>\n",
       "      <td>THE RETURN</td>\n",
       "      <td></td>\n",
       "      <td>0.003884</td>\n",
       "      <td>0.003884</td>\n",
       "      <td>0.197034</td>\n",
       "    </tr>\n",
       "  </tbody>\n",
       "</table>\n",
       "</div>"
      ],
      "text/plain": [
       "                                            filename  \\\n",
       "0  tolkien/Hobbit, The - J. R. R. Tolkien - 1960.txt   \n",
       "1  tolkien/Lord of the Rings - 01 - The Fellowshi...   \n",
       "2  tolkien/Lord of the Rings - 02 - The Two Tower...   \n",
       "3  tolkien/Lord of the Rings - 03 - The Return of...   \n",
       "\n",
       "                                                text  \\\n",
       "0  THE HOBBIT\\n\\nOR\\n\\nTHERE AND BACK AGAIN\\n\\nBY...   \n",
       "1  THE FELLOWSHIP OF THE RING\\n\\n\\n\\n\\nBEING THE ...   \n",
       "2  THE TWO TOWERS\\n\\n\\nBEING THE SECOND PART OF\\n...   \n",
       "3  THE RETURN\\n\\nOF THE KING\\n\\n\\n\\n\\nBEING THE T...   \n",
       "\n",
       "                         name content  negative   postive  positive  \n",
       "0                  THE HOBBIT          0.002952  0.002952  0.182019  \n",
       "1  THE FELLOWSHIP OF THE RING          0.003409  0.003409  0.185993  \n",
       "2              THE TWO TOWERS          0.004386  0.004386  0.182992  \n",
       "3                  THE RETURN          0.003884  0.003884  0.197034  "
      ]
     },
     "execution_count": 102,
     "metadata": {},
     "output_type": "execute_result"
    }
   ],
   "source": [
    "the_rings_df['positive'] = wordcount_df[list(postive_words)].sum(axis=1)\n",
    "the_rings_df.head(4)"
   ]
  },
  {
   "cell_type": "code",
   "execution_count": 87,
   "metadata": {},
   "outputs": [
    {
     "data": {
      "text/plain": [
       "<matplotlib.axes._subplots.AxesSubplot at 0x10ab7e9e8>"
      ]
     },
     "execution_count": 87,
     "metadata": {},
     "output_type": "execute_result"
    },
    {
     "data": {
      "image/png": "[encoded data removed]",
      "text/plain": [
       "<matplotlib.figure.Figure at 0x10c084438>"
      ]
     },
     "metadata": {},
     "output_type": "display_data"
    }
   ],
   "source": [
    "the_rings_df['positive'].plot()"
   ]
  },
  {
   "cell_type": "code",
   "execution_count": null,
   "metadata": {
    "collapsed": true
   },
   "outputs": [],
   "source": [
    "#Outcome: the opposite. "
   ]
  },
  {
   "cell_type": "code",
   "execution_count": 101,
   "metadata": {},
   "outputs": [
    {
     "data": {
      "text/plain": [
       "<matplotlib.axes._subplots.AxesSubplot at 0x10f8ae320>"
      ]
     },
     "execution_count": 101,
     "metadata": {},
     "output_type": "execute_result"
    },
    {
     "data": {
      "image/png": "[encoded data removed]",
      "text/plain": [
       "<matplotlib.figure.Figure at 0x10f8b5d68>"
      ]
     },
     "metadata": {},
     "output_type": "display_data"
    }
   ],
   "source": [
    "fig = plt.figure()\n",
    "ax = fig.add_subplot(121) # hoch/runter\n",
    "ax2 = fig.add_subplot(122) # seitlich\n",
    "the_rings_df['negative'].plot(x='name', y='negative', label='Negative Sound', ax=ax)\n",
    "the_rings_df['positive'].plot(ax=ax2)"
   ]
  },
  {
   "cell_type": "code",
   "execution_count": 103,
   "metadata": {
    "collapsed": true
   },
   "outputs": [],
   "source": [
    "#The Two Towers are on the dark side, The Return on the bright one. "
   ]
  },
  {
   "cell_type": "code",
   "execution_count": null,
   "metadata": {
    "collapsed": true
   },
   "outputs": [],
   "source": []
  }
 ],
 "metadata": {
  "kernelspec": {
   "display_name": "Python 3",
   "language": "python",
   "name": "python3"
  },
  "language_info": {
   "codemirror_mode": {
    "name": "ipython",
    "version": 3
   },
   "file_extension": ".py",
   "mimetype": "text/x-python",
   "name": "python",
   "nbconvert_exporter": "python",
   "pygments_lexer": "ipython3",
   "version": "3.6.1"
  }
 },
 "nbformat": 4,
 "nbformat_minor": 2
}
