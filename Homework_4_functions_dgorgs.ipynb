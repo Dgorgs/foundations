{
 "cells": [
  {
   "cell_type": "markdown",
   "metadata": {},
   "source": [
    "## homework 4: part two: investigating lists and dictionaries using functions\n",
    "\n",
    "In this assignment I will ask you to pick five relatively short texts (poems, paragraphs, short essays, song lyrics, whatever interests you). The main thing is to make sure that each text is around 10 - 20 lines or sentences long. Below, I have selected five poems by Wallace Stevens. In each cell I have made a variable that contains each poem, and then I pass that poem through a function called `text_to_dict` that makes a dictionary for each poem. The dictionary contains the title of the poem, the full text as one string, and a list that contains each line of the poem. The function will also make lists of sentences instead of lines if you want to investigate a prose text (sentence by sentence) instead of a poem (line by line).\n",
    "\n",
    "There are two parts of this assignment. \n",
    "\n",
    "**Part 1**, which should be easy, is to replace the poems with texts of your own choice--and choose to split them by lines or sentences. \n",
    "\n",
    "**Part 2** is to write functions that and investigate your texts. If you want to focus on the functions first, you can go straight to Part 2 and use the pomes I have chosen. You can then go back and enter your own texts--your functions should work no matter what text you've chosen.\n"
   ]
  },
  {
   "cell_type": "code",
   "execution_count": 351,
   "metadata": {
    "collapsed": true
   },
   "outputs": [],
   "source": [
    "#Run this cell to import regular expressions\n",
    "#And to initialize the all texts list that will contain all of your dictionaries of text\n",
    "import re\n",
    "all_texts = []"
   ]
  },
  {
   "cell_type": "markdown",
   "metadata": {},
   "source": [
    "** understanding the text_to_dict function**\n",
    "\n",
    "You don't have to completely understand this function to use it, but you do need to understand its parameters. It takes three parameters:\n",
    "* `title` is a string you need to write inside function's parameters\n",
    "* `text` is the variable that holds the entire text\n",
    "* `poem` True/False parameter --if it is true it will split your text by line (`\\n`) \n",
    " \tIf it is false it will split your text by sentence ('[.?!])\n",
    "\n",
    "If you look at the function you will see that it builds a dictionary with the following fields:\n",
    "* `title` is the title of the text\n",
    "* `text_as_string` is the full text as a string\n",
    "* `lines` is a list of lines or sentences\n",
    "\n",
    "It returns a dictionary with those fields."
   ]
  },
  {
   "cell_type": "code",
   "execution_count": 352,
   "metadata": {
    "collapsed": true
   },
   "outputs": [],
   "source": [
    "def text_to_dict(title,text,poem):\n",
    "    dict_of_this_text = {}\n",
    "    dict_of_this_text['title'] = title\n",
    "    dict_of_this_text['text_as_string'] = text\n",
    "    if poem:\n",
    "        text_to_list = text.strip().split('\\n')\n",
    "    else:\n",
    "        text_to_list = re.split(r\"[.?!]\",text)\n",
    "    dict_of_this_text['lines'] = text_to_list\n",
    "    return dict_of_this_text"
   ]
  },
  {
   "cell_type": "markdown",
   "metadata": {},
   "source": [
    "## Part One\n",
    "\n",
    "The next five cells are exactly the same. They define five different texts, and then they pass each text through the `text_to_dict` function. And then they add the resulting dictionary to the all_texts list. \n",
    "\n",
    "In the five cells below enter your five selected texts.\n",
    "\n",
    "**You should do no coding at any point** until the very last cell before part two."
   ]
  },
  {
   "cell_type": "code",
   "execution_count": 353,
   "metadata": {
    "collapsed": true
   },
   "outputs": [],
   "source": [
    "#To change the text, just put a new text between the quotation mark\n",
    "text0 = '''\n",
    "Ich säh dich gern noch einmal, wie vor Jahren\n",
    "Zum erstenmal. - Jetzt kann ich es nicht mehr.\n",
    "Ich säh dich gern noch einmal wie vorher,\n",
    "Als wir uns herrlich fremd und sonst nichts waren.\n",
    "\n",
    "Ich hört dich gern noch einmal wieder fragen,\n",
    "Wie jung ich sei ... was ich des Abends tu -\n",
    "Und später dann im kaumgebornen «Du»\n",
    "Mir jene tausend Worte Liebe sagen.\n",
    "'''\n",
    "#Remember: you need to type the title into the first parameter\n",
    "#If you want to split by line choose True for the third parameter\n",
    "#If you want to split by sentence, choose False\n",
    "transform_it = text_to_dict(\"Das Ende vom Lied\",text0,True)\n",
    "all_texts.append(transform_it)"
   ]
  },
  {
   "cell_type": "code",
   "execution_count": 354,
   "metadata": {
    "collapsed": true
   },
   "outputs": [],
   "source": [
    "text1 = '''\n",
    "Wer seinem Kind ein Spielzeug schenkt,\n",
    "weiß vorher, was passiert:\n",
    "Das Spielzeug ist, bevor man's denkt,\n",
    "zerlegt und ruiniert.\n",
    "Der Knabe haut und boxt und schlägt\n",
    "begeistert darauf ein.\n",
    "Und wenn's auch sehr viel Mühe macht:\n",
    "Am Ende, am Ende,\n",
    "am Ende kriegt er's klein.\n",
    "\n",
    "Wenn das erledigt wurde, dann\n",
    "beginnt der zweite Teil:\n",
    "Der Knabe starrt das Spielzeug an\n",
    "und wünscht sich's wieder heil!\n",
    "Jedoch, - was man zerbrochen hat,\n",
    "bleibt läng're Zeit entzwei.\n",
    "\n",
    "Da hilft kein Wunsch und kein Gebet.\n",
    "Es hilft auch kein Geschrei.\n",
    "Die Kleinen brüllen wie am Spieß\n",
    "und strampeln wie noch nie.\n",
    "Das Beste wär: Wir legten sie\n",
    "mal gründlich, mal gründlich,\n",
    "mal gründlich übers Knie.\n",
    "'''\n",
    "transform_it = text_to_dict(\"Das Spielzeuglied\",text1,True)\n",
    "all_texts.append(transform_it)"
   ]
  },
  {
   "cell_type": "code",
   "execution_count": 355,
   "metadata": {
    "collapsed": true
   },
   "outputs": [],
   "source": [
    "text2 = '''\n",
    "Als er mitten in der Nacht erwachte,\n",
    "schlug sein Herz, daß er davor erschrak.\n",
    "Denn die Frau, die neben ihm lag, lachte,\n",
    "daß es klang, als sei der Jüngste Tag.\n",
    "\n",
    "Und er hörte ihre Stimme klagen.\n",
    "Und er fühle, daß sie trotzdem schlief.\n",
    "Weil sie beide blind im Dunkeln lagen,\n",
    "sah er nur die Worte, die sie rief.\n",
    "\n",
    "\"Warum tötest du mich denn nicht schneller?\"\n",
    "fragte sie und weinte wie ein Kind.\n",
    "Und ihr Weinen drang aus jenem Keller,\n",
    "wo die Träume eingemauert sind.\n",
    "'''\n",
    "transform_it = text_to_dict(\"Eine Frau spricht im Schlaf\",text2,True)\n",
    "all_texts.append(transform_it)"
   ]
  },
  {
   "cell_type": "code",
   "execution_count": 356,
   "metadata": {},
   "outputs": [
    {
     "data": {
      "text/plain": [
       "'Das Spielzeuglied'"
      ]
     },
     "execution_count": 356,
     "metadata": {},
     "output_type": "execute_result"
    }
   ],
   "source": [
    "all_texts[1]['title']"
   ]
  },
  {
   "cell_type": "code",
   "execution_count": 357,
   "metadata": {
    "collapsed": true
   },
   "outputs": [],
   "source": [
    "text3 = '''\n",
    "Denkt ans fünfte Gebot:\n",
    "Schlagt eure Zeit nicht tot! \n",
    "'''\n",
    "transform_it = text_to_dict(\"Mord und Totschlag\",text3,True)\n",
    "all_texts.append(transform_it)"
   ]
  },
  {
   "cell_type": "code",
   "execution_count": 358,
   "metadata": {
    "collapsed": true
   },
   "outputs": [],
   "source": [
    "text4 = '''\n",
    "Allein ging jedem Alles schief.\n",
    "Da packte sie die Wut.\n",
    "Sie bildeten ein Kollektiv\n",
    "und glaubten, nun sei's gut.\n",
    "Sie blinzelten mit viel Geduld\n",
    "der Zukunft ins Gesicht.\n",
    "Es blieb, wie's war. Was war dran schuld?\n",
    "Die Rechnung stimmte nicht.\n",
    "Addiert die Null zehntausend Mal!\n",
    "Rechnet's nur gründlich aus!\n",
    "Multipliziert's mit jeder Zahl!\n",
    "Steht Kopf! Es bleibt euch keine Wahl:\n",
    "Zum Schluß kommt Null heraus. \n",
    "'''\n",
    "transform_it = text_to_dict(\"Kleine Rechenaufgabe\",text4,True)\n",
    "all_texts.append(transform_it)"
   ]
  },
  {
   "cell_type": "markdown",
   "metadata": {},
   "source": [
    "Run the two cells below to confirm that first, you only have five texts in the all_texts list, and next, look at the all_texts list to see the dictionary inside it. "
   ]
  },
  {
   "cell_type": "code",
   "execution_count": 359,
   "metadata": {},
   "outputs": [
    {
     "data": {
      "text/plain": [
       "5"
      ]
     },
     "execution_count": 359,
     "metadata": {},
     "output_type": "execute_result"
    }
   ],
   "source": [
    "len(all_texts)"
   ]
  },
  {
   "cell_type": "code",
   "execution_count": 360,
   "metadata": {},
   "outputs": [
    {
     "data": {
      "text/plain": [
       "[{'lines': ['Ich säh dich gern noch einmal, wie vor Jahren',\n",
       "   'Zum erstenmal. - Jetzt kann ich es nicht mehr.',\n",
       "   'Ich säh dich gern noch einmal wie vorher,',\n",
       "   'Als wir uns herrlich fremd und sonst nichts waren.',\n",
       "   '',\n",
       "   'Ich hört dich gern noch einmal wieder fragen,',\n",
       "   'Wie jung ich sei ... was ich des Abends tu -',\n",
       "   'Und später dann im kaumgebornen «Du»',\n",
       "   'Mir jene tausend Worte Liebe sagen.'],\n",
       "  'text_as_string': '\\nIch säh dich gern noch einmal, wie vor Jahren\\nZum erstenmal. - Jetzt kann ich es nicht mehr.\\nIch säh dich gern noch einmal wie vorher,\\nAls wir uns herrlich fremd und sonst nichts waren.\\n\\nIch hört dich gern noch einmal wieder fragen,\\nWie jung ich sei ... was ich des Abends tu -\\nUnd später dann im kaumgebornen «Du»\\nMir jene tausend Worte Liebe sagen.\\n',\n",
       "  'title': 'Das Ende vom Lied'},\n",
       " {'lines': ['Wer seinem Kind ein Spielzeug schenkt,',\n",
       "   'weiß vorher, was passiert:',\n",
       "   \"Das Spielzeug ist, bevor man's denkt,\",\n",
       "   'zerlegt und ruiniert.',\n",
       "   'Der Knabe haut und boxt und schlägt',\n",
       "   'begeistert darauf ein.',\n",
       "   \"Und wenn's auch sehr viel Mühe macht:\",\n",
       "   'Am Ende, am Ende,',\n",
       "   \"am Ende kriegt er's klein.\",\n",
       "   '',\n",
       "   'Wenn das erledigt wurde, dann',\n",
       "   'beginnt der zweite Teil:',\n",
       "   'Der Knabe starrt das Spielzeug an',\n",
       "   \"und wünscht sich's wieder heil!\",\n",
       "   'Jedoch, - was man zerbrochen hat,',\n",
       "   \"bleibt läng're Zeit entzwei.\",\n",
       "   '',\n",
       "   'Da hilft kein Wunsch und kein Gebet.',\n",
       "   'Es hilft auch kein Geschrei.',\n",
       "   'Die Kleinen brüllen wie am Spieß',\n",
       "   'und strampeln wie noch nie.',\n",
       "   'Das Beste wär: Wir legten sie',\n",
       "   'mal gründlich, mal gründlich,',\n",
       "   'mal gründlich übers Knie.'],\n",
       "  'text_as_string': \"\\nWer seinem Kind ein Spielzeug schenkt,\\nweiß vorher, was passiert:\\nDas Spielzeug ist, bevor man's denkt,\\nzerlegt und ruiniert.\\nDer Knabe haut und boxt und schlägt\\nbegeistert darauf ein.\\nUnd wenn's auch sehr viel Mühe macht:\\nAm Ende, am Ende,\\nam Ende kriegt er's klein.\\n\\nWenn das erledigt wurde, dann\\nbeginnt der zweite Teil:\\nDer Knabe starrt das Spielzeug an\\nund wünscht sich's wieder heil!\\nJedoch, - was man zerbrochen hat,\\nbleibt läng're Zeit entzwei.\\n\\nDa hilft kein Wunsch und kein Gebet.\\nEs hilft auch kein Geschrei.\\nDie Kleinen brüllen wie am Spieß\\nund strampeln wie noch nie.\\nDas Beste wär: Wir legten sie\\nmal gründlich, mal gründlich,\\nmal gründlich übers Knie.\\n\",\n",
       "  'title': 'Das Spielzeuglied'},\n",
       " {'lines': ['Als er mitten in der Nacht erwachte,',\n",
       "   'schlug sein Herz, daß er davor erschrak.',\n",
       "   'Denn die Frau, die neben ihm lag, lachte,',\n",
       "   'daß es klang, als sei der Jüngste Tag.',\n",
       "   '',\n",
       "   'Und er hörte ihre Stimme klagen.',\n",
       "   'Und er fühle, daß sie trotzdem schlief.',\n",
       "   'Weil sie beide blind im Dunkeln lagen,',\n",
       "   'sah er nur die Worte, die sie rief.',\n",
       "   '',\n",
       "   '\"Warum tötest du mich denn nicht schneller?\"',\n",
       "   'fragte sie und weinte wie ein Kind.',\n",
       "   'Und ihr Weinen drang aus jenem Keller,',\n",
       "   'wo die Träume eingemauert sind.'],\n",
       "  'text_as_string': '\\nAls er mitten in der Nacht erwachte,\\nschlug sein Herz, daß er davor erschrak.\\nDenn die Frau, die neben ihm lag, lachte,\\ndaß es klang, als sei der Jüngste Tag.\\n\\nUnd er hörte ihre Stimme klagen.\\nUnd er fühle, daß sie trotzdem schlief.\\nWeil sie beide blind im Dunkeln lagen,\\nsah er nur die Worte, die sie rief.\\n\\n\"Warum tötest du mich denn nicht schneller?\"\\nfragte sie und weinte wie ein Kind.\\nUnd ihr Weinen drang aus jenem Keller,\\nwo die Träume eingemauert sind.\\n',\n",
       "  'title': 'Eine Frau spricht im Schlaf'},\n",
       " {'lines': ['Denkt ans fünfte Gebot:', 'Schlagt eure Zeit nicht tot!'],\n",
       "  'text_as_string': '\\nDenkt ans fünfte Gebot:\\nSchlagt eure Zeit nicht tot! \\n',\n",
       "  'title': 'Mord und Totschlag'},\n",
       " {'lines': ['Allein ging jedem Alles schief.',\n",
       "   'Da packte sie die Wut.',\n",
       "   'Sie bildeten ein Kollektiv',\n",
       "   \"und glaubten, nun sei's gut.\",\n",
       "   'Sie blinzelten mit viel Geduld',\n",
       "   'der Zukunft ins Gesicht.',\n",
       "   \"Es blieb, wie's war. Was war dran schuld?\",\n",
       "   'Die Rechnung stimmte nicht.',\n",
       "   'Addiert die Null zehntausend Mal!',\n",
       "   \"Rechnet's nur gründlich aus!\",\n",
       "   \"Multipliziert's mit jeder Zahl!\",\n",
       "   'Steht Kopf! Es bleibt euch keine Wahl:',\n",
       "   'Zum Schluß kommt Null heraus.'],\n",
       "  'text_as_string': \"\\nAllein ging jedem Alles schief.\\nDa packte sie die Wut.\\nSie bildeten ein Kollektiv\\nund glaubten, nun sei's gut.\\nSie blinzelten mit viel Geduld\\nder Zukunft ins Gesicht.\\nEs blieb, wie's war. Was war dran schuld?\\nDie Rechnung stimmte nicht.\\nAddiert die Null zehntausend Mal!\\nRechnet's nur gründlich aus!\\nMultipliziert's mit jeder Zahl!\\nSteht Kopf! Es bleibt euch keine Wahl:\\nZum Schluß kommt Null heraus. \\n\",\n",
       "  'title': 'Kleine Rechenaufgabe'}]"
      ]
     },
     "execution_count": 360,
     "metadata": {},
     "output_type": "execute_result"
    }
   ],
   "source": [
    "all_texts"
   ]
  },
  {
   "cell_type": "markdown",
   "metadata": {},
   "source": [
    "In the cell below, loop through all_texts and print out the title of each text. (This is the only code you need to write for Part One.)"
   ]
  },
  {
   "cell_type": "code",
   "execution_count": 361,
   "metadata": {},
   "outputs": [
    {
     "name": "stdout",
     "output_type": "stream",
     "text": [
      "Das Ende vom Lied\n",
      "Das Spielzeuglied\n",
      "Eine Frau spricht im Schlaf\n",
      "Mord und Totschlag\n",
      "Kleine Rechenaufgabe\n"
     ]
    }
   ],
   "source": [
    "###Write your code here\n",
    "for text in all_texts:\n",
    "    print(text['title'])        "
   ]
  },
  {
   "cell_type": "markdown",
   "metadata": {},
   "source": [
    "## Part Two:  searching within lists and dictionaries\n",
    "In this part, we will be searching through each text and printing out a desired result. The searches, including loops and printing should all be defined in the function. The second cell should just have to function call that executes the function. I have written an example function and call for the first search. For each function that you write you should copy the original function and modify it so what does what I ask for.\n",
    "\n",
    "For the first five functions, there are no parameters passed to the functions--the calls will just execute the function. Go step-by-step and take your time."
   ]
  },
  {
   "cell_type": "code",
   "execution_count": 362,
   "metadata": {
    "collapsed": true
   },
   "outputs": [],
   "source": [
    "def get_lengths():\n",
    "    for text in all_texts:\n",
    "        print(text['title'])\n",
    "        print(len(text['text_as_string']))\n",
    "        print(\"------------\")"
   ]
  },
  {
   "cell_type": "code",
   "execution_count": 363,
   "metadata": {
    "scrolled": true
   },
   "outputs": [
    {
     "name": "stdout",
     "output_type": "stream",
     "text": [
      "Das Ende vom Lied\n",
      "352\n",
      "------------\n",
      "Das Spielzeuglied\n",
      "668\n",
      "------------\n",
      "Eine Frau spricht im Schlaf\n",
      "462\n",
      "------------\n",
      "Mord und Totschlag\n",
      "55\n",
      "------------\n",
      "Kleine Rechenaufgabe\n",
      "403\n",
      "------------\n"
     ]
    }
   ],
   "source": [
    "get_lengths()"
   ]
  },
  {
   "cell_type": "markdown",
   "metadata": {},
   "source": [
    "Question 1\n",
    "Now write a function that gets the **line count for each poem** (or sentence count for each piece of prose). This function is going to be very similar to the last one. Instead of accessing the whole text via text['text_as_string'] which is a string, you need to access the list of lines/sentences and get the length of that list. Everything else should be the same."
   ]
  },
  {
   "cell_type": "code",
   "execution_count": 364,
   "metadata": {
    "collapsed": true
   },
   "outputs": [],
   "source": [
    "#Write your function here, name it get_line_count() \n",
    "\n",
    "def get_line_count():\n",
    "   for lines in all_texts:\n",
    "       print(lines['title'])\n",
    "       print(len(lines['lines']))\n",
    "       print(\"------------\")   "
   ]
  },
  {
   "cell_type": "code",
   "execution_count": 365,
   "metadata": {},
   "outputs": [
    {
     "name": "stdout",
     "output_type": "stream",
     "text": [
      "Das Ende vom Lied\n",
      "9\n",
      "------------\n",
      "Das Spielzeuglied\n",
      "24\n",
      "------------\n",
      "Eine Frau spricht im Schlaf\n",
      "14\n",
      "------------\n",
      "Mord und Totschlag\n",
      "2\n",
      "------------\n",
      "Kleine Rechenaufgabe\n",
      "13\n",
      "------------\n"
     ]
    }
   ],
   "source": [
    "get_line_count()"
   ]
  },
  {
   "cell_type": "markdown",
   "metadata": {},
   "source": [
    "Question 2\n",
    "Now write a function that prints out a **random line or sentence from each text**. Again, this function will look much the same as the last ones, but instead of getting numbers you need to get actual lines. I have included the necessary import and an example of how to get random integers. Basically, for each text you need to get one element from the list of lines/ sentences with a random number between 0 and the length of the list."
   ]
  },
  {
   "cell_type": "code",
   "execution_count": 366,
   "metadata": {
    "collapsed": true
   },
   "outputs": [],
   "source": [
    "from random import randint\n",
    "#Write your function here name it show_random_lines()\n",
    "def show_random_lines():\n",
    "    for lines in all_texts:\n",
    "        print(lines['title'])\n",
    "        line_length = len(lines['lines'])\n",
    "        random_num = randint(0, line_length-1)\n",
    "        print(lines['lines'][random_num])\n",
    "        print(\"------------\")    \n",
    "#This should be inside the inner loop \n",
    "#so you get a fresh random number for each text\n",
    "#And it should not be from 0 to 9, but 0 to what?\n",
    "#Keep in mind that the range (0,9) give you any number \n",
    "#from 0 to 9 including both 0 and 9."
   ]
  },
  {
   "cell_type": "code",
   "execution_count": 367,
   "metadata": {},
   "outputs": [
    {
     "name": "stdout",
     "output_type": "stream",
     "text": [
      "Das Ende vom Lied\n",
      "Ich hört dich gern noch einmal wieder fragen,\n",
      "------------\n",
      "Das Spielzeuglied\n",
      "Das Beste wär: Wir legten sie\n",
      "------------\n",
      "Eine Frau spricht im Schlaf\n",
      "\n",
      "------------\n",
      "Mord und Totschlag\n",
      "Schlagt eure Zeit nicht tot!\n",
      "------------\n",
      "Kleine Rechenaufgabe\n",
      "Rechnet's nur gründlich aus!\n",
      "------------\n"
     ]
    }
   ],
   "source": [
    "show_random_lines()"
   ]
  },
  {
   "cell_type": "markdown",
   "metadata": {},
   "source": [
    "Question 3\n",
    "This is a little bit different--instead of printing out something from each text, I want you to **print the entire text of the longest text**. Remember in the first function, I printed out the length of each text. Well, you need to test for the longest text as you look through and when you're done looping through print out the one that is longest.\n",
    "\n",
    "**Major hints!**: To do this you will need two **tracking variables** set before the loop runs: A numerical one that tracks the longest length (the number), and string variable remembers the actual text that has that length.\n",
    "\n",
    "Like this: longest_length = 0 and longest_text = \"\"\n",
    "\n",
    "When you loop through you need to test if each text was longer than the last one, and if it is longer--you update longest_length and longest_text to reflect the highest length, and the actual text. When the loop is over you then print out that longest_text string."
   ]
  },
  {
   "cell_type": "code",
   "execution_count": 368,
   "metadata": {
    "collapsed": true
   },
   "outputs": [],
   "source": [
    "#Write your function here, name it longest_text()\n",
    "def longest_text():\n",
    "    longest_length = 0\n",
    "    longest_text =\"\"\n",
    "    for text in all_texts:\n",
    "        if len(text['text_as_string']) > longest_length:\n",
    "            longest_length = len(text['text_as_string'])\n",
    "            longest_text = text['text_as_string']\n",
    "    \n",
    "    print(longest_text)\n",
    "    \n",
    "    print(\"------------\")"
   ]
  },
  {
   "cell_type": "code",
   "execution_count": 369,
   "metadata": {},
   "outputs": [
    {
     "name": "stdout",
     "output_type": "stream",
     "text": [
      "\n",
      "Wer seinem Kind ein Spielzeug schenkt,\n",
      "weiß vorher, was passiert:\n",
      "Das Spielzeug ist, bevor man's denkt,\n",
      "zerlegt und ruiniert.\n",
      "Der Knabe haut und boxt und schlägt\n",
      "begeistert darauf ein.\n",
      "Und wenn's auch sehr viel Mühe macht:\n",
      "Am Ende, am Ende,\n",
      "am Ende kriegt er's klein.\n",
      "\n",
      "Wenn das erledigt wurde, dann\n",
      "beginnt der zweite Teil:\n",
      "Der Knabe starrt das Spielzeug an\n",
      "und wünscht sich's wieder heil!\n",
      "Jedoch, - was man zerbrochen hat,\n",
      "bleibt läng're Zeit entzwei.\n",
      "\n",
      "Da hilft kein Wunsch und kein Gebet.\n",
      "Es hilft auch kein Geschrei.\n",
      "Die Kleinen brüllen wie am Spieß\n",
      "und strampeln wie noch nie.\n",
      "Das Beste wär: Wir legten sie\n",
      "mal gründlich, mal gründlich,\n",
      "mal gründlich übers Knie.\n",
      "\n",
      "------------\n"
     ]
    }
   ],
   "source": [
    "longest_text()"
   ]
  },
  {
   "cell_type": "markdown",
   "metadata": {},
   "source": [
    "Question 4\n",
    "This is kind of a combination of the first two functions--write a function that gets the **average line/sentence length for each text**."
   ]
  },
  {
   "cell_type": "code",
   "execution_count": 370,
   "metadata": {
    "collapsed": true
   },
   "outputs": [],
   "source": [
    "#Write your function here\n",
    "def average_line_length():\n",
    "    for average in all_texts:\n",
    "        print(average['title'])\n",
    "        print(len(average['text_as_string'])/len(average['lines']))\n",
    "    print(\"------------\")"
   ]
  },
  {
   "cell_type": "code",
   "execution_count": 371,
   "metadata": {},
   "outputs": [
    {
     "name": "stdout",
     "output_type": "stream",
     "text": [
      "Das Ende vom Lied\n",
      "39.111111111111114\n",
      "Das Spielzeuglied\n",
      "27.833333333333332\n",
      "Eine Frau spricht im Schlaf\n",
      "33.0\n",
      "Mord und Totschlag\n",
      "27.5\n",
      "Kleine Rechenaufgabe\n",
      "31.0\n",
      "------------\n"
     ]
    }
   ],
   "source": [
    "average_line_length()"
   ]
  },
  {
   "cell_type": "markdown",
   "metadata": {},
   "source": [
    "Question 5\n",
    "**Print the longest line/sentence in each text**. \n",
    "This is similar to question 3--but your two tracking variables (longest_length and longest_line) need to be placed right before the inside loop--and then you print the lines each time the inside loop ends."
   ]
  },
  {
   "cell_type": "code",
   "execution_count": 372,
   "metadata": {
    "collapsed": true
   },
   "outputs": [],
   "source": [
    "#Write your function here\n",
    "def longest_line_in_each():\n",
    "    for text in all_texts:\n",
    "        longest_length = 0\n",
    "        longest_line_in_each = ''\n",
    "        for each_line in text['lines']:\n",
    "            if len(each_line) > longest_length:\n",
    "                longest_length = len(each_line)\n",
    "                longest_line_in_each = each_line\n",
    "            \n",
    "        print(longest_line_in_each)\n",
    "        print('----------------')\n",
    "        "
   ]
  },
  {
   "cell_type": "code",
   "execution_count": 373,
   "metadata": {},
   "outputs": [
    {
     "name": "stdout",
     "output_type": "stream",
     "text": [
      "Als wir uns herrlich fremd und sonst nichts waren.\n",
      "----------------\n",
      "Wer seinem Kind ein Spielzeug schenkt,\n",
      "----------------\n",
      "\"Warum tötest du mich denn nicht schneller?\"\n",
      "----------------\n",
      "Schlagt eure Zeit nicht tot!\n",
      "----------------\n",
      "Es blieb, wie's war. Was war dran schuld?\n",
      "----------------\n"
     ]
    }
   ],
   "source": [
    "longest_line_in_each()"
   ]
  },
  {
   "cell_type": "markdown",
   "metadata": {},
   "source": [
    "Question 6\n",
    "**Print the shortest single line/sentence out of all of the texts that is greater than zero**\n",
    "This is the tricky-ish: You need to place the tracking variables outside the loop (like question 4, but the loop through all of the lines, test for the shortest one (greater than 0)."
   ]
  },
  {
   "cell_type": "code",
   "execution_count": 374,
   "metadata": {
    "collapsed": true
   },
   "outputs": [],
   "source": [
    "#Write your function here\n",
    "#def shortest_of_all_lines():\n",
    "    #shortest_length = 0\n",
    "    #shortest_line_in_all = ''\n",
    "    #for shortest in all_texts:\n",
    "        #if len(each_line) > 0:\n",
    "           # shortest_length = len(each_line)\n",
    "           # shortest_line_in_each = each_line\n",
    "        #print(shortest_of_all_lines)\n",
    "     "
   ]
  },
  {
   "cell_type": "code",
   "execution_count": 375,
   "metadata": {
    "collapsed": true
   },
   "outputs": [],
   "source": [
    "#shortest_of_all_lines()"
   ]
  },
  {
   "cell_type": "markdown",
   "metadata": {},
   "source": [
    "## searching with regular expressions\n",
    "In the functions below you will search all the texts using regular expressions. The first few of these functions should not be too challenging--you just need to adjust the regular expression inside the function. At points it gets a little more complex as you have to control the looping through the lists and dictionaries."
   ]
  },
  {
   "cell_type": "code",
   "execution_count": 376,
   "metadata": {
    "collapsed": true
   },
   "outputs": [],
   "source": [
    "def get_this_word(word):\n",
    "    my_regex = r\"\\b\" + word + r\"\\b\"\n",
    "    for text in all_texts:\n",
    "        result = [line for line in text['lines'] if re.search(my_regex, line, re.IGNORECASE)]\n",
    "        if len(result) > 0:\n",
    "            print(text['title'])\n",
    "            [print(line) for line in result]\n",
    "            print(\"------------\")\n",
    "            "
   ]
  },
  {
   "cell_type": "code",
   "execution_count": 380,
   "metadata": {},
   "outputs": [
    {
     "name": "stdout",
     "output_type": "stream",
     "text": [
      "Das Spielzeuglied\n",
      "Wer seinem Kind ein Spielzeug schenkt,\n",
      "Das Spielzeug ist, bevor man's denkt,\n",
      "Der Knabe starrt das Spielzeug an\n",
      "------------\n"
     ]
    }
   ],
   "source": [
    "get_this_word('Spielzeug')"
   ]
  },
  {
   "cell_type": "markdown",
   "metadata": {},
   "source": [
    "Question 7\n",
    "Print out the lines that start with the word entered.  You just need to adjust the regular expression here."
   ]
  },
  {
   "cell_type": "code",
   "execution_count": 1,
   "metadata": {
    "collapsed": true
   },
   "outputs": [],
   "source": [
    "#Write your function here\n",
    "def get_the_lines(word):\n",
    "    my_regex = r\"\\b[A-Z] + word + \\s\"\n",
    "    for text in all_texts:\n",
    "        result = [line for line in text['lines'] if re.search(my_regex, line, re.IGNORECASE)]\n",
    "        if len(result) > 0:\n",
    "            print(text['title'])\n",
    "            [print(line) for line in result]\n",
    "            print(\"------------\")"
   ]
  },
  {
   "cell_type": "code",
   "execution_count": 11,
   "metadata": {},
   "outputs": [],
   "source": [
    "#line_starts_with \n",
    "#get_the_lines(word) #- don't really know what to do here"
   ]
  },
  {
   "cell_type": "markdown",
   "metadata": {},
   "source": [
    "Question 8\n",
    "Print out the lines that end with the word entered.  You just need to adjust the regular expression here."
   ]
  },
  {
   "cell_type": "code",
   "execution_count": null,
   "metadata": {
    "collapsed": true
   },
   "outputs": [],
   "source": [
    "#Write your function here"
   ]
  },
  {
   "cell_type": "code",
   "execution_count": null,
   "metadata": {
    "collapsed": true
   },
   "outputs": [],
   "source": [
    "line_ends_with('the')"
   ]
  },
  {
   "cell_type": "markdown",
   "metadata": {},
   "source": [
    "Question 9\n",
    "Print out **how many times the word was found in each text.** In this case, instead of the list comprehension, you want to run a re.findall() on the string of the text (not the list) and then count the number of elements in the list of results.\n",
    "\n",
    "Hint: use the original function at the beginning of this section, and make the proper adjustments to the variable \"result\""
   ]
  },
  {
   "cell_type": "code",
   "execution_count": null,
   "metadata": {
    "collapsed": true
   },
   "outputs": [],
   "source": [
    "#Write your function here"
   ]
  },
  {
   "cell_type": "code",
   "execution_count": null,
   "metadata": {
    "collapsed": true
   },
   "outputs": [],
   "source": [
    "how_many_times('the')"
   ]
  },
  {
   "cell_type": "markdown",
   "metadata": {},
   "source": [
    "Question 10\n",
    "Print out **the text that has the highest occurrence of the word** you searched for. This is similar to the last function, but here you need tracking variables like you had in Question 3.\n"
   ]
  },
  {
   "cell_type": "code",
   "execution_count": null,
   "metadata": {
    "collapsed": true
   },
   "outputs": [],
   "source": [
    "#Write your function here"
   ]
  },
  {
   "cell_type": "code",
   "execution_count": null,
   "metadata": {
    "collapsed": true
   },
   "outputs": [],
   "source": [
    "text_with_most_occurance_of('word')"
   ]
  },
  {
   "cell_type": "markdown",
   "metadata": {},
   "source": [
    "Question 11\n",
    "Print out **lines containing words of the length asked**. We are sort of back to basics here, you just need to modify the regular expression of the first function (get_this_word(word)) so that it can take a number parameter for the length of characters in a word."
   ]
  },
  {
   "cell_type": "code",
   "execution_count": null,
   "metadata": {
    "collapsed": true
   },
   "outputs": [],
   "source": [
    "#Write your function here"
   ]
  },
  {
   "cell_type": "code",
   "execution_count": null,
   "metadata": {
    "collapsed": true
   },
   "outputs": [],
   "source": [
    "lines_with_words_this_length('10')"
   ]
  },
  {
   "cell_type": "markdown",
   "metadata": {
    "collapsed": true
   },
   "source": [
    "**Final question:** in this cell, describe two functions that you would like to write, not ones that you're able to write, but ones you think would be useful or interesting or fun."
   ]
  },
  {
   "cell_type": "code",
   "execution_count": null,
   "metadata": {
    "collapsed": true
   },
   "outputs": [],
   "source": []
  }
 ],
 "metadata": {
  "kernelspec": {
   "display_name": "Python 3",
   "language": "python",
   "name": "python3"
  },
  "language_info": {
   "codemirror_mode": {
    "name": "ipython",
    "version": 3
   },
   "file_extension": ".py",
   "mimetype": "text/x-python",
   "name": "python",
   "nbconvert_exporter": "python",
   "pygments_lexer": "ipython3",
   "version": "3.6.1"
  }
 },
 "nbformat": 4,
 "nbformat_minor": 2
}
