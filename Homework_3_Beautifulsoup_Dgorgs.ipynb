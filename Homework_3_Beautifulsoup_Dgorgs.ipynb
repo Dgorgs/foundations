{
 "cells": [
  {
   "cell_type": "markdown",
   "metadata": {},
   "source": [
    "## Homework 3\n",
    "This homework asks you to scrape from three different sources, please follow the instructions and do the best you can. With the exception of the first cell that imports the URL request and the beautiful soup library, I have not pre-written any code for you. Do not be afraid--you may look at the tutorial for examples, as well as the Beautiful Soup documentation, and any other Python resource (such a Stack overflow) if need be. \n",
    "\n",
    "This homework is intended to be challenging, if you only get 70% of the stuff done than you did very well."
   ]
  },
  {
   "cell_type": "code",
   "execution_count": 87,
   "metadata": {
    "collapsed": true
   },
   "outputs": [],
   "source": [
    "from urllib.request import urlopen\n",
    "from bs4 import BeautifulSoup"
   ]
  },
  {
   "cell_type": "markdown",
   "metadata": {},
   "source": [
    "## Shakespeare \n",
    "I've posted some relatively simple HTML of the first act of William Shakespeare's The Tempest here: http://floatingmedia.com/columbia/tempest.html please use that URL to download the HTML and put it through Beautiful Soup. (It also may be very helpful for you to go to that page in chrome and inspect elements why you do this.) \n",
    "**Please note: there are 2 scenes in Act 1**\n",
    "\n"
   ]
  },
  {
   "cell_type": "markdown",
   "metadata": {},
   "source": [
    "In the cells below you should you make two lines--a variable that requests and reads the HTML from the URL (http://floatingmedia.com/columbia/tempest.html), and a second variable that passes the raw HTML into Beautiful Soup. You will use that beautiful soup variable to search the HTML."
   ]
  },
  {
   "cell_type": "code",
   "execution_count": 88,
   "metadata": {},
   "outputs": [
    {
     "name": "stdout",
     "output_type": "stream",
     "text": [
      "<class 'bs4.BeautifulSoup'>\n"
     ]
    }
   ],
   "source": [
    "raw_html = urlopen(\"http://floatingmedia.com/columbia/tempest.html\").read()\n",
    "soup_doc = BeautifulSoup(raw_html, \"html.parser\")\n",
    "print(type(soup_doc))"
   ]
  },
  {
   "cell_type": "markdown",
   "metadata": {},
   "source": [
    "Get the title of the play:"
   ]
  },
  {
   "cell_type": "code",
   "execution_count": 89,
   "metadata": {},
   "outputs": [
    {
     "name": "stdout",
     "output_type": "stream",
     "text": [
      "<title>The Tempest</title>\n"
     ]
    }
   ],
   "source": [
    "soup_doc.title\n",
    "print(soup_doc.title)"
   ]
  },
  {
   "cell_type": "markdown",
   "metadata": {},
   "source": [
    "Get the HTML that contains the setting of Act One Scene 1:"
   ]
  },
  {
   "cell_type": "code",
   "execution_count": 90,
   "metadata": {},
   "outputs": [
    {
     "data": {
      "text/plain": [
       "<p class=\"stagedir\"><strong>\n",
       "On a ship at sea</strong></p>"
      ]
     },
     "execution_count": 90,
     "metadata": {},
     "output_type": "execute_result"
    }
   ],
   "source": [
    "soup_doc.find_all('p')[1]"
   ]
  },
  {
   "cell_type": "markdown",
   "metadata": {},
   "source": [
    "Get the setting of Act One Scene 1 (as a string):"
   ]
  },
  {
   "cell_type": "code",
   "execution_count": 91,
   "metadata": {},
   "outputs": [
    {
     "name": "stdout",
     "output_type": "stream",
     "text": [
      "\n",
      "On a ship at sea\n"
     ]
    }
   ],
   "source": [
    "print(soup_doc.find_all('p')[1].string)"
   ]
  },
  {
   "cell_type": "markdown",
   "metadata": {},
   "source": [
    "Get the setting of scene 2"
   ]
  },
  {
   "cell_type": "code",
   "execution_count": 92,
   "metadata": {
    "scrolled": true
   },
   "outputs": [
    {
     "data": {
      "text/plain": [
       "<div>\n",
       "<p class=\"playsubhead\">Act I, Scene 2</p>\n",
       "<p class=\"stagedir\" style=\"text-align:center\"><strong>The island. Before PROSPERO’S cell.</strong></p>\n",
       "</div>"
      ]
     },
     "execution_count": 92,
     "metadata": {},
     "output_type": "execute_result"
    }
   ],
   "source": [
    "soup_doc.find_all('div')[2]"
   ]
  },
  {
   "cell_type": "code",
   "execution_count": 93,
   "metadata": {},
   "outputs": [
    {
     "name": "stdout",
     "output_type": "stream",
     "text": [
      "None\n"
     ]
    }
   ],
   "source": [
    "print(soup_doc.find_all('div')[2].string)"
   ]
  },
  {
   "cell_type": "markdown",
   "metadata": {},
   "source": [
    "Get the name of the first character in Scene 1"
   ]
  },
  {
   "cell_type": "code",
   "execution_count": 94,
   "metadata": {},
   "outputs": [
    {
     "name": "stdout",
     "output_type": "stream",
     "text": [
      "Master. \n"
     ]
    }
   ],
   "source": [
    "soup_doc.find_all('div')[1].find('li').find('strong').string\n",
    "print(soup_doc.find_all('div')[1].find('li').find('strong').string)"
   ]
  },
  {
   "cell_type": "code",
   "execution_count": 95,
   "metadata": {},
   "outputs": [
    {
     "name": "stdout",
     "output_type": "stream",
     "text": [
      "Master. \n"
     ]
    }
   ],
   "source": [
    "first_list = soup_doc.find_all('div')[1].find('li')\n",
    "character_name = first_list.find('strong')\n",
    "print(character_name.string)"
   ]
  },
  {
   "cell_type": "markdown",
   "metadata": {},
   "source": [
    "Get a list of all of characters in Scene 1 (repeats are fine, you need a loop here)"
   ]
  },
  {
   "cell_type": "code",
   "execution_count": 96,
   "metadata": {},
   "outputs": [
    {
     "name": "stdout",
     "output_type": "stream",
     "text": [
      "Master. \n",
      "Boatswain. \n",
      "Master. \n",
      "Boatswain. \n",
      "Alonso. \n",
      "Boatswain. \n",
      "Antonio. \n",
      "Boatswain. \n",
      "Gonzalo. \n",
      "Boatswain. \n",
      "Gonzalo. \n",
      "Boatswain. \n",
      "Gonzalo. \n",
      "Boatswain. \n",
      "Sebastian. \n",
      "Boatswain. \n",
      "Antonio. \n",
      "Gonzalo. \n",
      "Boatswain. \n",
      "Mariners. \n",
      "Boatswain. \n",
      "Gonzalo. \n",
      "Sebastian. \n",
      "Antonio. \n",
      "Gonzalo. \n",
      "Antonio. \n",
      "Sebastian. \n",
      "Gonzalo. \n"
     ]
    }
   ],
   "source": [
    "list_characters = soup_doc.find_all('div')[1].find_all('ul')\n",
    "#print(list_characters)\n",
    "for names in list_characters:\n",
    "    names.find('strong')\n",
    "    print(names.find('strong').contents[0])"
   ]
  },
  {
   "cell_type": "markdown",
   "metadata": {},
   "source": [
    "**Bonus:** write a script that takes all the duplicates out of the list. (This is a python thing, not a beautiful soup thing.)"
   ]
  },
  {
   "cell_type": "code",
   "execution_count": 97,
   "metadata": {},
   "outputs": [],
   "source": [
    "##wrong: def remove_duplicate(alist):\n",
    "#return list_characters(set(alist))"
   ]
  },
  {
   "cell_type": "markdown",
   "metadata": {},
   "source": [
    "Display every stage direction in _scene 2_"
   ]
  },
  {
   "cell_type": "code",
   "execution_count": 98,
   "metadata": {},
   "outputs": [
    {
     "name": "stdout",
     "output_type": "stream",
     "text": [
      "[Enter PROSPERO and MIRANDA]\n",
      "[Enter ARIEL]\n",
      "[Exit]\n",
      "[Enter CALIBAN]\n",
      "[Draws, and is charmed from moving]\n",
      "[Exeunt]\n"
     ]
    }
   ],
   "source": [
    "scene_two = soup_doc.find_all('div')[3].find_all('p', attrs={'class': 'stagedir'})\n",
    "for stagedir in scene_two:\n",
    "    stagedir.contents[0]\n",
    "    print(stagedir.contents[0])"
   ]
  },
  {
   "cell_type": "markdown",
   "metadata": {},
   "source": [
    "Get the HTML containing Miranda's first speech in Scene 2"
   ]
  },
  {
   "cell_type": "code",
   "execution_count": 99,
   "metadata": {
    "scrolled": true
   },
   "outputs": [
    {
     "name": "stdout",
     "output_type": "stream",
     "text": [
      "<li class=\"playtext\"><strong>Miranda. </strong>If by your art, my dearest father, you have\n",
      " <span class=\"playlinenum\">85</span><br/>Put the wild waters in this roar, allay them.\n",
      "<br/>The sky, it seems, would pour down stinking pitch,\n",
      "<br/>But that the sea, mounting to the welkin's cheek,\n",
      "<br/>Dashes the fire out. O, I have suffered\n",
      "<br/>With those that I saw suffer: a brave vessel,\n",
      " <span class=\"playlinenum\">90</span><br/>Who had, no doubt, some noble creature in her,\n",
      "<br/>Dash'd all to pieces. O, the cry did knock\n",
      "<br/>Against my very heart. Poor souls, they perish'd.\n",
      "<br/>Had I been any god of power, I would\n",
      "<br/>Have sunk the sea within the earth or ere\n",
      " <span class=\"playlinenum\">95</span><br/>It should the good ship so have swallow'd and\n",
      "<br/>The fraughting souls within her.\n",
      "</li>\n"
     ]
    }
   ],
   "source": [
    "first_speech = soup_doc.find_all('div')[3].find('li', attrs={'class': 'playtext'})\n",
    "print(first_speech)"
   ]
  },
  {
   "cell_type": "markdown",
   "metadata": {},
   "source": [
    "Now display those same lines without the speaker's name (need to use siblings and a loop to get this)"
   ]
  },
  {
   "cell_type": "code",
   "execution_count": 106,
   "metadata": {},
   "outputs": [
    {
     "name": "stdout",
     "output_type": "stream",
     "text": [
      "Put the wild waters in this roar, allay them.\n",
      "\n",
      "The sky, it seems, would pour down stinking pitch,\n",
      "\n",
      "But that the sea, mounting to the welkin's cheek,\n",
      "\n",
      "Dashes the fire out. O, I have suffered\n",
      "\n",
      "With those that I saw suffer: a brave vessel,\n",
      " \n",
      "Who had, no doubt, some noble creature in her,\n",
      "\n",
      "Dash'd all to pieces. O, the cry did knock\n",
      "\n",
      "Against my very heart. Poor souls, they perish'd.\n",
      "\n",
      "Had I been any god of power, I would\n",
      "\n",
      "Have sunk the sea within the earth or ere\n",
      " \n",
      "It should the good ship so have swallow'd and\n",
      "\n",
      "The fraughting souls within her.\n",
      "\n"
     ]
    }
   ],
   "source": [
    "len(first_speech)\n",
    "first_speech.find_all('br')\n",
    "for speech in first_speech.find_all('br'):\n",
    "    print(speech.nextSibling)"
   ]
  },
  {
   "cell_type": "code",
   "execution_count": 116,
   "metadata": {
    "scrolled": true
   },
   "outputs": [
    {
     "data": {
      "text/plain": [
       "['If by your art, my dearest father, you have\\n ',\n",
       " 'Put the wild waters in this roar, allay them.\\n',\n",
       " 'The sky, it seems, would pour down stinking pitch,\\n',\n",
       " \"But that the sea, mounting to the welkin's cheek,\\n\",\n",
       " 'Dashes the fire out. O, I have suffered\\n',\n",
       " 'With those that I saw suffer: a brave vessel,\\n ',\n",
       " 'Who had, no doubt, some noble creature in her,\\n',\n",
       " \"Dash'd all to pieces. O, the cry did knock\\n\",\n",
       " \"Against my very heart. Poor souls, they perish'd.\\n\",\n",
       " 'Had I been any god of power, I would\\n',\n",
       " 'Have sunk the sea within the earth or ere\\n ',\n",
       " \"It should the good ship so have swallow'd and\\n\",\n",
       " 'The fraughting souls within her.\\n']"
      ]
     },
     "execution_count": 116,
     "metadata": {},
     "output_type": "execute_result"
    }
   ],
   "source": [
    "first_speech.find('strong').find_next_siblings(text=True)"
   ]
  },
  {
   "cell_type": "markdown",
   "metadata": {},
   "source": [
    "Get the HTML containing the speech after Miranda's"
   ]
  },
  {
   "cell_type": "code",
   "execution_count": 119,
   "metadata": {},
   "outputs": [
    {
     "ename": "TypeError",
     "evalue": "'NoneType' object is not callable",
     "output_type": "error",
     "traceback": [
      "\u001b[0;31m---------------------------------------------------------------------------\u001b[0m",
      "\u001b[0;31mTypeError\u001b[0m                                 Traceback (most recent call last)",
      "\u001b[0;32m<ipython-input-119-a99e5141316a>\u001b[0m in \u001b[0;36m<module>\u001b[0;34m()\u001b[0m\n\u001b[0;32m----> 1\u001b[0;31m \u001b[0msecond_speech\u001b[0m \u001b[0;34m=\u001b[0m \u001b[0msoup_doc\u001b[0m\u001b[0;34m.\u001b[0m\u001b[0mfind_all\u001b[0m\u001b[0;34m(\u001b[0m\u001b[0;34m'div'\u001b[0m\u001b[0;34m)\u001b[0m\u001b[0;34m[\u001b[0m\u001b[0;36m3\u001b[0m\u001b[0;34m]\u001b[0m\u001b[0;34m.\u001b[0m\u001b[0mfind_last_siblings\u001b[0m\u001b[0;34m(\u001b[0m\u001b[0mtext\u001b[0m\u001b[0;34m=\u001b[0m\u001b[0;32mTrue\u001b[0m\u001b[0;34m)\u001b[0m\u001b[0;34m\u001b[0m\u001b[0m\n\u001b[0m\u001b[1;32m      2\u001b[0m \u001b[0mprint\u001b[0m\u001b[0;34m(\u001b[0m\u001b[0msecond_speech\u001b[0m\u001b[0;34m)\u001b[0m\u001b[0;34m\u001b[0m\u001b[0m\n",
      "\u001b[0;31mTypeError\u001b[0m: 'NoneType' object is not callable"
     ]
    }
   ],
   "source": [
    "second_speech = soup_doc.find_all('div')[3].find_last_siblings(text=True)\n",
    "print(second_speech)"
   ]
  },
  {
   "cell_type": "markdown",
   "metadata": {},
   "source": [
    "## Box Office Mojo \n",
    "I've posted some slightly simplified HTML of the current worldwide box office leaders here: http://floatingmedia.com/columbia/boxoffice.htm please use that URL to download the HTML and put it through Beautiful Soup. (It also may be very helpful for you to go to that page in chrome and inspect elements why you do this.) \n",
    "\n",
    "For this part of the assignment you should focus mostly on tr (table rows) amd td (table cells) -- and search them using find_all('tr')[1] in order to get a specific row, and find_all('td')[2] to get a specific cell."
   ]
  },
  {
   "cell_type": "markdown",
   "metadata": {},
   "source": [
    "Just like with the Shakespeare write two lines get the raw HTML and then transform the raw HTML into a beautiful soup variable"
   ]
  },
  {
   "cell_type": "code",
   "execution_count": null,
   "metadata": {
    "collapsed": true
   },
   "outputs": [],
   "source": []
  },
  {
   "cell_type": "markdown",
   "metadata": {},
   "source": [
    "Get the text \"2017 worldwide grosses\""
   ]
  },
  {
   "cell_type": "code",
   "execution_count": null,
   "metadata": {
    "collapsed": true
   },
   "outputs": [],
   "source": []
  },
  {
   "cell_type": "markdown",
   "metadata": {},
   "source": [
    "Get an HTML list of all of the column names from the header of the table: rank, title, etc..."
   ]
  },
  {
   "cell_type": "code",
   "execution_count": null,
   "metadata": {
    "collapsed": true
   },
   "outputs": [],
   "source": []
  },
  {
   "cell_type": "markdown",
   "metadata": {},
   "source": [
    "Make a variable called \"headers\" and set it equal to the list of strings of the column names and header. In the next line write: \"headers[1]\" your output should be \"Title\""
   ]
  },
  {
   "cell_type": "code",
   "execution_count": null,
   "metadata": {
    "collapsed": true
   },
   "outputs": [],
   "source": []
  },
  {
   "cell_type": "markdown",
   "metadata": {},
   "source": [
    "Get the HTML for the row that contains the #1 movie"
   ]
  },
  {
   "cell_type": "code",
   "execution_count": null,
   "metadata": {
    "collapsed": true
   },
   "outputs": [],
   "source": []
  },
  {
   "cell_type": "markdown",
   "metadata": {},
   "source": [
    "Get the HTML for the row that contains the #10 movie "
   ]
  },
  {
   "cell_type": "code",
   "execution_count": null,
   "metadata": {
    "collapsed": true
   },
   "outputs": [],
   "source": []
  },
  {
   "cell_type": "markdown",
   "metadata": {},
   "source": [
    "Get a list of the top 10 films (You'll need to use the loop and specify a range for the loop.) The list should look like this:\n",
    "\n",
    "`Beauty and the Beast (2017)\n",
    "The Fate of the Furious\n",
    "Guardians of the Galaxy Vol. 2\n",
    "Logan\n",
    "Kong: Skull Island\n",
    "Pirates of the Caribbean: Dead Men Tell No Tales\n",
    "The Boss Baby\n",
    "Fifty Shades Darker\n",
    "Your Name.\n",
    "xXx: The Return of Xander Cage`"
   ]
  },
  {
   "cell_type": "code",
   "execution_count": null,
   "metadata": {
    "collapsed": true
   },
   "outputs": [],
   "source": []
  },
  {
   "cell_type": "markdown",
   "metadata": {},
   "source": [
    "Display as strings the top 10 films by name and worldwide gross. Like this:\n",
    "\n",
    "`Beauty and the Beast (2017) $502.2\n",
    "The Fate of the Furious $223.9\n",
    "Guardians of the Galaxy Vol. 2 $356.7\n",
    "Logan $226.2\n",
    "Kong: Skull Island $167.8\n",
    "Pirates of the Caribbean: Dead Men Tell No Tales $117.6\n",
    "The Boss Baby $171.0\n",
    "Fifty Shades Darker $114.4\n",
    "Your Name. $4.9\n",
    "xXx: The Return of Xander Cage $44.9`"
   ]
  },
  {
   "cell_type": "code",
   "execution_count": null,
   "metadata": {
    "collapsed": true
   },
   "outputs": [],
   "source": []
  },
  {
   "cell_type": "markdown",
   "metadata": {},
   "source": [
    "Display the link for the movie `Logan`:"
   ]
  },
  {
   "cell_type": "code",
   "execution_count": null,
   "metadata": {
    "collapsed": true
   },
   "outputs": [],
   "source": []
  },
  {
   "cell_type": "markdown",
   "metadata": {},
   "source": [
    "Create a list for `Logan` that looks like this:\n",
    "\n",
    "`['4', 'Logan', 'Fox', '$612.4', '$226.2', '$386.2']`"
   ]
  },
  {
   "cell_type": "code",
   "execution_count": null,
   "metadata": {
    "collapsed": true
   },
   "outputs": [],
   "source": []
  },
  {
   "cell_type": "markdown",
   "metadata": {},
   "source": [
    "Here is some premade code. If you got your headers list and your logan_list right, this will make you a nice dictionary for Logan."
   ]
  },
  {
   "cell_type": "code",
   "execution_count": 104,
   "metadata": {},
   "outputs": [],
   "source": [
    "#logan_dict = dict(zip(headers, logan_list))\n",
    "#print(logan_dict)"
   ]
  },
  {
   "cell_type": "markdown",
   "metadata": {},
   "source": [
    "## Advanced Challenge\n",
    "Go to this page on pitchfork.com: http://pitchfork.com/features/lists-and-guides/9980-the-50-best-albums-of-2016/?page=5 and scrape the artist name, album, and rank of the top 10 albums. Use as many cells as you would like, and don't forget to make a new URL request and a new beautiful soup variable"
   ]
  },
  {
   "cell_type": "code",
   "execution_count": null,
   "metadata": {
    "collapsed": true
   },
   "outputs": [],
   "source": []
  }
 ],
 "metadata": {
  "kernelspec": {
   "display_name": "Python 3",
   "language": "python",
   "name": "python3"
  },
  "language_info": {
   "codemirror_mode": {
    "name": "ipython",
    "version": 3
   },
   "file_extension": ".py",
   "mimetype": "text/x-python",
   "name": "python",
   "nbconvert_exporter": "python",
   "pygments_lexer": "ipython3",
   "version": "3.6.1"
  }
 },
 "nbformat": 4,
 "nbformat_minor": 2
}
