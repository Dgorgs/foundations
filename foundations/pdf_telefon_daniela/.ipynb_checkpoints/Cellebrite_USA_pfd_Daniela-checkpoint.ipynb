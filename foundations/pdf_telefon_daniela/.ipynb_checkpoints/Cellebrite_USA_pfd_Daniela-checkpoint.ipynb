{
 "cells": [
  {
   "cell_type": "code",
   "execution_count": 1,
   "metadata": {},
   "outputs": [
    {
     "name": "stdout",
     "output_type": "stream",
     "text": [
      "Cellebrite_USA_PO_51705644.pdf        tabula-Cellebrite_USA_PO_51705644.csv\r\n",
      "Untitled.ipynb\r\n"
     ]
    }
   ],
   "source": [
    "!ls"
   ]
  },
  {
   "cell_type": "code",
   "execution_count": 2,
   "metadata": {
    "collapsed": true
   },
   "outputs": [],
   "source": [
    "import pdfquery"
   ]
  },
  {
   "cell_type": "code",
   "execution_count": 3,
   "metadata": {
    "collapsed": true
   },
   "outputs": [],
   "source": [
    "pdf = pdfquery.PDFQuery(\"Cellebrite_USA_PO_51705644.pdf\")\n",
    "pdf.load()"
   ]
  },
  {
   "cell_type": "code",
   "execution_count": 4,
   "metadata": {},
   "outputs": [
    {
     "data": {
      "text/plain": [
       "{'Unnamed0': 'Purchase Order 51705644 PURCHASE ORDER',\n",
       " 'Unnamed1': '(QUOTE# 00000337) INFO ADAPTERS AND Need By Date Item Description/Ship to Address',\n",
       " 'Unnamed2': '15-SEP-16 Need By Date'}"
      ]
     },
     "execution_count": 4,
     "metadata": {},
     "output_type": "execute_result"
    }
   ],
   "source": [
    "pdf = pdfquery.PDFQuery('Cellebrite_USA_PO_51705644.pdf')\n",
    "\n",
    "pdf.extract([\n",
    "\t('with_formatter', 'text'),\n",
    "\t('Unnamed0', 'LTPage[pageid=\\'1\\'] LTTextLineHorizontal:overlaps_bbox(\"340,756,487,766\")'),\n",
    "\t('Unnamed1', 'LTPage[pageid=\\'1\\'] LTTextLineHorizontal:overlaps_bbox(\"91,459,281,489\")'),\n",
    "\t('Unnamed2', 'LTPage[pageid=\\'1\\'] LTTextLineHorizontal:overlaps_bbox(\"51,461,89,489\")')\n",
    "])"
   ]
  },
  {
   "cell_type": "code",
   "execution_count": null,
   "metadata": {
    "collapsed": true
   },
   "outputs": [],
   "source": []
  }
 ],
 "metadata": {
  "kernelspec": {
   "display_name": "Python 3",
   "language": "python",
   "name": "python3"
  },
  "language_info": {
   "codemirror_mode": {
    "name": "ipython",
    "version": 3
   },
   "file_extension": ".py",
   "mimetype": "text/x-python",
   "name": "python",
   "nbconvert_exporter": "python",
   "pygments_lexer": "ipython3",
   "version": "3.6.1"
  }
 },
 "nbformat": 4,
 "nbformat_minor": 2
}
