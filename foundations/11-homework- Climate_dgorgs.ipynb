{
 "cells": [
  {
   "cell_type": "markdown",
   "metadata": {},
   "source": [
    "# Exercise: Climate\n",
    "\n",
    "#### Summary\n",
    "\n",
    "Do nothing very useful with climate data from the US government.\n",
    "\n",
    "#### Data Source(s)\n",
    "\n",
    "Data from NOAA, https://www7.ncdc.noaa.gov/CDO/CDODivisionalSelect.jsp\n",
    "\n",
    "#### Files\n",
    "\n",
    "- CDODiv8449537379627.txt, climate data from 1985-2017\n",
    "- florida.txt, california.txt, virginia.txt, minnesota.txt, nebraska.txt, same as above but for specific states\n",
    "\n",
    "#### Data dictionary\n",
    "\n",
    "- **PCP** - Precipitation Index\n",
    "- **TAVG** - Temperature Index\n",
    "- **TMIN** - Minimum Temperature Index\n",
    "- **TMAX** - Maximum Temperature Index\n",
    "- **PDSI** - Palmer Drought Severity Index\n",
    "- **PHDI** - Palmer Hydrological Drought Index\n",
    "- **ZNDX** - Palmer Z-Index\n",
    "- **PMDI** - Modified Palmer Drought Severity Index\n",
    "- **CDD** - Cooling Degree Days\n",
    "- **HDD** - Heating Degree Days\n",
    "- **SPnn** - Standard Precipitation Index\n",
    "\n",
    "#### Skills\n",
    "\n",
    "- Cleaning column names\n",
    "- NaN values\n",
    "- Date time manipulation\n",
    "- Plotting"
   ]
  },
  {
   "cell_type": "markdown",
   "metadata": {},
   "source": [
    "# Reading in your data\n",
    "\n",
    "## Open up the file and check the first few rows"
   ]
  },
  {
   "cell_type": "code",
   "execution_count": 225,
   "metadata": {
    "collapsed": true
   },
   "outputs": [],
   "source": [
    "import pandas as pd\n",
    "%matplotlib inline"
   ]
  },
  {
   "cell_type": "code",
   "execution_count": 226,
   "metadata": {},
   "outputs": [
    {
     "data": {
      "text/html": [
       "<div>\n",
       "<style>\n",
       "    .dataframe thead tr:only-child th {\n",
       "        text-align: right;\n",
       "    }\n",
       "\n",
       "    .dataframe thead th {\n",
       "        text-align: left;\n",
       "    }\n",
       "\n",
       "    .dataframe tbody tr th {\n",
       "        vertical-align: top;\n",
       "    }\n",
       "</style>\n",
       "<table border=\"1\" class=\"dataframe\">\n",
       "  <thead>\n",
       "    <tr style=\"text-align: right;\">\n",
       "      <th></th>\n",
       "      <th>StateCode</th>\n",
       "      <th>Division</th>\n",
       "      <th>YearMonth</th>\n",
       "      <th>PCP</th>\n",
       "      <th>TAVG</th>\n",
       "      <th>PDSI</th>\n",
       "      <th>PHDI</th>\n",
       "      <th>ZNDX</th>\n",
       "      <th>PMDI</th>\n",
       "      <th>CDD</th>\n",
       "      <th>HDD</th>\n",
       "      <th>SP01</th>\n",
       "      <th>SP02</th>\n",
       "      <th>SP03</th>\n",
       "      <th>SP06</th>\n",
       "      <th>SP09</th>\n",
       "      <th>SP12</th>\n",
       "      <th>SP24</th>\n",
       "      <th>TMIN</th>\n",
       "      <th>TMAX</th>\n",
       "      <th>Unnamed: 20</th>\n",
       "    </tr>\n",
       "  </thead>\n",
       "  <tbody>\n",
       "    <tr>\n",
       "      <th>0</th>\n",
       "      <td>110</td>\n",
       "      <td>0</td>\n",
       "      <td>189501</td>\n",
       "      <td>3.32</td>\n",
       "      <td>26.69</td>\n",
       "      <td>1.47</td>\n",
       "      <td>1.47</td>\n",
       "      <td>4.42</td>\n",
       "      <td>1.47</td>\n",
       "      <td>6</td>\n",
       "      <td>1017</td>\n",
       "      <td>1.79</td>\n",
       "      <td>-99.99</td>\n",
       "      <td>-99.99</td>\n",
       "      <td>-99.99</td>\n",
       "      <td>-99.99</td>\n",
       "      <td>-99.99</td>\n",
       "      <td>-99.99</td>\n",
       "      <td>16.52</td>\n",
       "      <td>36.86</td>\n",
       "      <td>NaN</td>\n",
       "    </tr>\n",
       "    <tr>\n",
       "      <th>1</th>\n",
       "      <td>110</td>\n",
       "      <td>0</td>\n",
       "      <td>189502</td>\n",
       "      <td>1.41</td>\n",
       "      <td>26.60</td>\n",
       "      <td>-0.45</td>\n",
       "      <td>0.87</td>\n",
       "      <td>-1.35</td>\n",
       "      <td>0.07</td>\n",
       "      <td>1</td>\n",
       "      <td>974</td>\n",
       "      <td>-1.69</td>\n",
       "      <td>0.52</td>\n",
       "      <td>-99.99</td>\n",
       "      <td>-99.99</td>\n",
       "      <td>-99.99</td>\n",
       "      <td>-99.99</td>\n",
       "      <td>-99.99</td>\n",
       "      <td>15.57</td>\n",
       "      <td>37.65</td>\n",
       "      <td>NaN</td>\n",
       "    </tr>\n",
       "    <tr>\n",
       "      <th>2</th>\n",
       "      <td>110</td>\n",
       "      <td>0</td>\n",
       "      <td>189503</td>\n",
       "      <td>1.99</td>\n",
       "      <td>39.97</td>\n",
       "      <td>-0.83</td>\n",
       "      <td>-0.83</td>\n",
       "      <td>-1.28</td>\n",
       "      <td>-0.83</td>\n",
       "      <td>13</td>\n",
       "      <td>692</td>\n",
       "      <td>-1.09</td>\n",
       "      <td>-2.11</td>\n",
       "      <td>-0.16</td>\n",
       "      <td>-99.99</td>\n",
       "      <td>-99.99</td>\n",
       "      <td>-99.99</td>\n",
       "      <td>-99.99</td>\n",
       "      <td>27.86</td>\n",
       "      <td>52.07</td>\n",
       "      <td>NaN</td>\n",
       "    </tr>\n",
       "    <tr>\n",
       "      <th>3</th>\n",
       "      <td>110</td>\n",
       "      <td>0</td>\n",
       "      <td>189504</td>\n",
       "      <td>1.99</td>\n",
       "      <td>52.90</td>\n",
       "      <td>-1.42</td>\n",
       "      <td>-1.42</td>\n",
       "      <td>-2.02</td>\n",
       "      <td>-1.42</td>\n",
       "      <td>27</td>\n",
       "      <td>345</td>\n",
       "      <td>-1.24</td>\n",
       "      <td>-1.62</td>\n",
       "      <td>-2.86</td>\n",
       "      <td>-99.99</td>\n",
       "      <td>-99.99</td>\n",
       "      <td>-99.99</td>\n",
       "      <td>-99.99</td>\n",
       "      <td>39.45</td>\n",
       "      <td>66.33</td>\n",
       "      <td>NaN</td>\n",
       "    </tr>\n",
       "    <tr>\n",
       "      <th>4</th>\n",
       "      <td>110</td>\n",
       "      <td>0</td>\n",
       "      <td>189505</td>\n",
       "      <td>2.88</td>\n",
       "      <td>59.94</td>\n",
       "      <td>0.04</td>\n",
       "      <td>-1.23</td>\n",
       "      <td>0.12</td>\n",
       "      <td>-1.08</td>\n",
       "      <td>88</td>\n",
       "      <td>155</td>\n",
       "      <td>-0.03</td>\n",
       "      <td>-0.78</td>\n",
       "      <td>-1.15</td>\n",
       "      <td>-99.99</td>\n",
       "      <td>-99.99</td>\n",
       "      <td>-99.99</td>\n",
       "      <td>-99.99</td>\n",
       "      <td>47.05</td>\n",
       "      <td>72.81</td>\n",
       "      <td>NaN</td>\n",
       "    </tr>\n",
       "  </tbody>\n",
       "</table>\n",
       "</div>"
      ],
      "text/plain": [
       "   StateCode  Division  YearMonth      PCP     TAVG     PDSI     PHDI  \\\n",
       "0        110         0     189501     3.32    26.69     1.47     1.47   \n",
       "1        110         0     189502     1.41    26.60    -0.45     0.87   \n",
       "2        110         0     189503     1.99    39.97    -0.83    -0.83   \n",
       "3        110         0     189504     1.99    52.90    -1.42    -1.42   \n",
       "4        110         0     189505     2.88    59.94     0.04    -1.23   \n",
       "\n",
       "      ZNDX     PMDI      CDD      HDD     SP01     SP02     SP03     SP06  \\\n",
       "0     4.42     1.47        6     1017     1.79   -99.99   -99.99   -99.99   \n",
       "1    -1.35     0.07        1      974    -1.69     0.52   -99.99   -99.99   \n",
       "2    -1.28    -0.83       13      692    -1.09    -2.11    -0.16   -99.99   \n",
       "3    -2.02    -1.42       27      345    -1.24    -1.62    -2.86   -99.99   \n",
       "4     0.12    -1.08       88      155    -0.03    -0.78    -1.15   -99.99   \n",
       "\n",
       "      SP09     SP12     SP24     TMIN     TMAX  Unnamed: 20  \n",
       "0   -99.99   -99.99   -99.99    16.52    36.86          NaN  \n",
       "1   -99.99   -99.99   -99.99    15.57    37.65          NaN  \n",
       "2   -99.99   -99.99   -99.99    27.86    52.07          NaN  \n",
       "3   -99.99   -99.99   -99.99    39.45    66.33          NaN  \n",
       "4   -99.99   -99.99   -99.99    47.05    72.81          NaN  "
      ]
     },
     "execution_count": 226,
     "metadata": {},
     "output_type": "execute_result"
    }
   ],
   "source": [
    "df = pd.read_csv(\"data/climate/CDODiv8449537379627.txt\")\n",
    "df.head()"
   ]
  },
  {
   "cell_type": "markdown",
   "metadata": {},
   "source": [
    "## Hmmm, `-99.99` doesn't seem like good data!\n",
    "\n",
    "And if you read [the documentation](ftp://ftp.ncdc.noaa.gov/pub/data/cirs/climdiv/divisional-readme.txt), you find out it means MISSING DATA. Get rid of those -99.99s however you think is best."
   ]
  },
  {
   "cell_type": "code",
   "execution_count": 227,
   "metadata": {},
   "outputs": [
    {
     "data": {
      "text/html": [
       "<div>\n",
       "<style>\n",
       "    .dataframe thead tr:only-child th {\n",
       "        text-align: right;\n",
       "    }\n",
       "\n",
       "    .dataframe thead th {\n",
       "        text-align: left;\n",
       "    }\n",
       "\n",
       "    .dataframe tbody tr th {\n",
       "        vertical-align: top;\n",
       "    }\n",
       "</style>\n",
       "<table border=\"1\" class=\"dataframe\">\n",
       "  <thead>\n",
       "    <tr style=\"text-align: right;\">\n",
       "      <th></th>\n",
       "      <th>StateCode</th>\n",
       "      <th>Division</th>\n",
       "      <th>YearMonth</th>\n",
       "      <th>PCP</th>\n",
       "      <th>TAVG</th>\n",
       "      <th>PDSI</th>\n",
       "      <th>PHDI</th>\n",
       "      <th>ZNDX</th>\n",
       "      <th>PMDI</th>\n",
       "      <th>CDD</th>\n",
       "      <th>HDD</th>\n",
       "      <th>SP01</th>\n",
       "      <th>SP02</th>\n",
       "      <th>SP03</th>\n",
       "      <th>SP06</th>\n",
       "      <th>SP09</th>\n",
       "      <th>SP12</th>\n",
       "      <th>SP24</th>\n",
       "      <th>TMIN</th>\n",
       "      <th>TMAX</th>\n",
       "      <th>Unnamed: 20</th>\n",
       "    </tr>\n",
       "  </thead>\n",
       "  <tbody>\n",
       "    <tr>\n",
       "      <th>0</th>\n",
       "      <td>110</td>\n",
       "      <td>0</td>\n",
       "      <td>189501</td>\n",
       "      <td>3.32</td>\n",
       "      <td>26.69</td>\n",
       "      <td>1.47</td>\n",
       "      <td>1.47</td>\n",
       "      <td>4.42</td>\n",
       "      <td>1.47</td>\n",
       "      <td>6</td>\n",
       "      <td>1017</td>\n",
       "      <td>1.79</td>\n",
       "      <td>NaN</td>\n",
       "      <td>NaN</td>\n",
       "      <td>NaN</td>\n",
       "      <td>NaN</td>\n",
       "      <td>NaN</td>\n",
       "      <td>NaN</td>\n",
       "      <td>16.52</td>\n",
       "      <td>36.86</td>\n",
       "      <td>NaN</td>\n",
       "    </tr>\n",
       "    <tr>\n",
       "      <th>1</th>\n",
       "      <td>110</td>\n",
       "      <td>0</td>\n",
       "      <td>189502</td>\n",
       "      <td>1.41</td>\n",
       "      <td>26.60</td>\n",
       "      <td>-0.45</td>\n",
       "      <td>0.87</td>\n",
       "      <td>-1.35</td>\n",
       "      <td>0.07</td>\n",
       "      <td>1</td>\n",
       "      <td>974</td>\n",
       "      <td>-1.69</td>\n",
       "      <td>0.52</td>\n",
       "      <td>NaN</td>\n",
       "      <td>NaN</td>\n",
       "      <td>NaN</td>\n",
       "      <td>NaN</td>\n",
       "      <td>NaN</td>\n",
       "      <td>15.57</td>\n",
       "      <td>37.65</td>\n",
       "      <td>NaN</td>\n",
       "    </tr>\n",
       "    <tr>\n",
       "      <th>2</th>\n",
       "      <td>110</td>\n",
       "      <td>0</td>\n",
       "      <td>189503</td>\n",
       "      <td>1.99</td>\n",
       "      <td>39.97</td>\n",
       "      <td>-0.83</td>\n",
       "      <td>-0.83</td>\n",
       "      <td>-1.28</td>\n",
       "      <td>-0.83</td>\n",
       "      <td>13</td>\n",
       "      <td>692</td>\n",
       "      <td>-1.09</td>\n",
       "      <td>-2.11</td>\n",
       "      <td>-0.16</td>\n",
       "      <td>NaN</td>\n",
       "      <td>NaN</td>\n",
       "      <td>NaN</td>\n",
       "      <td>NaN</td>\n",
       "      <td>27.86</td>\n",
       "      <td>52.07</td>\n",
       "      <td>NaN</td>\n",
       "    </tr>\n",
       "    <tr>\n",
       "      <th>3</th>\n",
       "      <td>110</td>\n",
       "      <td>0</td>\n",
       "      <td>189504</td>\n",
       "      <td>1.99</td>\n",
       "      <td>52.90</td>\n",
       "      <td>-1.42</td>\n",
       "      <td>-1.42</td>\n",
       "      <td>-2.02</td>\n",
       "      <td>-1.42</td>\n",
       "      <td>27</td>\n",
       "      <td>345</td>\n",
       "      <td>-1.24</td>\n",
       "      <td>-1.62</td>\n",
       "      <td>-2.86</td>\n",
       "      <td>NaN</td>\n",
       "      <td>NaN</td>\n",
       "      <td>NaN</td>\n",
       "      <td>NaN</td>\n",
       "      <td>39.45</td>\n",
       "      <td>66.33</td>\n",
       "      <td>NaN</td>\n",
       "    </tr>\n",
       "    <tr>\n",
       "      <th>4</th>\n",
       "      <td>110</td>\n",
       "      <td>0</td>\n",
       "      <td>189505</td>\n",
       "      <td>2.88</td>\n",
       "      <td>59.94</td>\n",
       "      <td>0.04</td>\n",
       "      <td>-1.23</td>\n",
       "      <td>0.12</td>\n",
       "      <td>-1.08</td>\n",
       "      <td>88</td>\n",
       "      <td>155</td>\n",
       "      <td>-0.03</td>\n",
       "      <td>-0.78</td>\n",
       "      <td>-1.15</td>\n",
       "      <td>NaN</td>\n",
       "      <td>NaN</td>\n",
       "      <td>NaN</td>\n",
       "      <td>NaN</td>\n",
       "      <td>47.05</td>\n",
       "      <td>72.81</td>\n",
       "      <td>NaN</td>\n",
       "    </tr>\n",
       "  </tbody>\n",
       "</table>\n",
       "</div>"
      ],
      "text/plain": [
       "   StateCode  Division  YearMonth      PCP     TAVG     PDSI     PHDI  \\\n",
       "0        110         0     189501     3.32    26.69     1.47     1.47   \n",
       "1        110         0     189502     1.41    26.60    -0.45     0.87   \n",
       "2        110         0     189503     1.99    39.97    -0.83    -0.83   \n",
       "3        110         0     189504     1.99    52.90    -1.42    -1.42   \n",
       "4        110         0     189505     2.88    59.94     0.04    -1.23   \n",
       "\n",
       "      ZNDX     PMDI      CDD      HDD     SP01     SP02     SP03     SP06  \\\n",
       "0     4.42     1.47        6     1017     1.79      NaN      NaN      NaN   \n",
       "1    -1.35     0.07        1      974    -1.69     0.52      NaN      NaN   \n",
       "2    -1.28    -0.83       13      692    -1.09    -2.11    -0.16      NaN   \n",
       "3    -2.02    -1.42       27      345    -1.24    -1.62    -2.86      NaN   \n",
       "4     0.12    -1.08       88      155    -0.03    -0.78    -1.15      NaN   \n",
       "\n",
       "      SP09     SP12     SP24     TMIN     TMAX  Unnamed: 20  \n",
       "0      NaN      NaN      NaN    16.52    36.86          NaN  \n",
       "1      NaN      NaN      NaN    15.57    37.65          NaN  \n",
       "2      NaN      NaN      NaN    27.86    52.07          NaN  \n",
       "3      NaN      NaN      NaN    39.45    66.33          NaN  \n",
       "4      NaN      NaN      NaN    47.05    72.81          NaN  "
      ]
     },
     "execution_count": 227,
     "metadata": {},
     "output_type": "execute_result"
    }
   ],
   "source": [
    "df = pd.read_csv(\"data/climate/CDODiv8449537379627.txt\", na_values=[-99.99, -99.90, -9.99, -9999])\n",
    "df.head()"
   ]
  },
  {
   "cell_type": "markdown",
   "metadata": {},
   "source": [
    "## Wait, there's even more missing data!\n",
    "\n",
    "Open up [the documentation](ftp://ftp.ncdc.noaa.gov/pub/data/cirs/climdiv/divisional-readme.txt) and look for the other values that are \"missing.\"\n",
    "\n",
    "- Tip: don't read all of the documentation, use the power of searching!"
   ]
  },
  {
   "cell_type": "code",
   "execution_count": null,
   "metadata": {},
   "outputs": [],
   "source": []
  },
  {
   "cell_type": "markdown",
   "metadata": {},
   "source": [
    "## Confirm that you have 1465 rows and 21 columns"
   ]
  },
  {
   "cell_type": "code",
   "execution_count": 228,
   "metadata": {},
   "outputs": [
    {
     "data": {
      "text/plain": [
       "(1465, 21)"
      ]
     },
     "execution_count": 228,
     "metadata": {},
     "output_type": "execute_result"
    }
   ],
   "source": [
    "df.shape"
   ]
  },
  {
   "cell_type": "markdown",
   "metadata": {},
   "source": [
    "## Let's see the columns and their data types"
   ]
  },
  {
   "cell_type": "code",
   "execution_count": 229,
   "metadata": {},
   "outputs": [
    {
     "data": {
      "text/plain": [
       "StateCode        int64\n",
       "Division         int64\n",
       "YearMonth        int64\n",
       "    PCP        float64\n",
       "   TAVG        float64\n",
       "   PDSI        float64\n",
       "   PHDI        float64\n",
       "   ZNDX        float64\n",
       "   PMDI        float64\n",
       "    CDD          int64\n",
       "    HDD          int64\n",
       "   SP01        float64\n",
       "   SP02        float64\n",
       "   SP03        float64\n",
       "   SP06        float64\n",
       "   SP09        float64\n",
       "   SP12        float64\n",
       "   SP24        float64\n",
       "   TMIN        float64\n",
       "   TMAX        float64\n",
       "Unnamed: 20    float64\n",
       "dtype: object"
      ]
     },
     "execution_count": 229,
     "metadata": {},
     "output_type": "execute_result"
    }
   ],
   "source": [
    "df.dtypes"
   ]
  },
  {
   "cell_type": "markdown",
   "metadata": {},
   "source": [
    "## Uuuuhhh something is weird\n",
    "\n",
    "Try to get the average `TMAX`. It *probably* will not work. Why not?"
   ]
  },
  {
   "cell_type": "code",
   "execution_count": 230,
   "metadata": {},
   "outputs": [],
   "source": [
    "#df.['TMAX'].mean()"
   ]
  },
  {
   "cell_type": "markdown",
   "metadata": {},
   "source": [
    "## Cleaning up"
   ]
  },
  {
   "cell_type": "markdown",
   "metadata": {},
   "source": [
    "### Fix the column names!\n",
    "\n",
    "Right now TMAX (and the rest of the column names) are looking pretty bad. Let's turn them into normal columns! **If you couldn't figure out what's wrong with them, ask!**\n",
    "\n",
    "- Tip: You can get a list of the columns by using `df.columns`.\n",
    "- Tip: You can actually treat them just like a pandas column\n",
    "- Tip: What would you use if you had to remove whitespace (spaces) from the left and right of a column in pandas?\n",
    "- Tip: Instead of using rename, you can set the columns to something new with `df.columns = blah blah blah` (but be sure to **check that your edited ones are right** before you assign them)"
   ]
  },
  {
   "cell_type": "code",
   "execution_count": 231,
   "metadata": {},
   "outputs": [
    {
     "data": {
      "text/plain": [
       "Index(['StateCode', 'Division', 'YearMonth', '    PCP', '   TAVG', '   PDSI',\n",
       "       '   PHDI', '   ZNDX', '   PMDI', '    CDD', '    HDD', '   SP01',\n",
       "       '   SP02', '   SP03', '   SP06', '   SP09', '   SP12', '   SP24',\n",
       "       '   TMIN', '   TMAX', 'Unnamed: 20'],\n",
       "      dtype='object')"
      ]
     },
     "execution_count": 231,
     "metadata": {},
     "output_type": "execute_result"
    }
   ],
   "source": [
    "df.columns"
   ]
  },
  {
   "cell_type": "code",
   "execution_count": 232,
   "metadata": {},
   "outputs": [
    {
     "data": {
      "text/plain": [
       "Index(['StateCode', 'Division', 'YearMonth', 'PCP', 'TAVG', 'PDSI', 'PHDI',\n",
       "       'ZNDX', 'PMDI', 'CDD', 'HDD', 'SP01', 'SP02', 'SP03', 'SP06', 'SP09',\n",
       "       'SP12', 'SP24', 'TMIN', 'TMAX', 'Unnamed: 20'],\n",
       "      dtype='object')"
      ]
     },
     "execution_count": 232,
     "metadata": {},
     "output_type": "execute_result"
    }
   ],
   "source": [
    "#Rename column manually\n",
    "df.columns = ['StateCode', 'Division', 'YearMonth', 'PCP', 'TAVG', 'PDSI', 'PHDI', 'ZNDX', 'PMDI', 'CDD', 'HDD', 'SP01', 'SP02', 'SP03', 'SP06', 'SP09', 'SP12', 'SP24', 'TMIN', 'TMAX', 'Unnamed: 20']\n",
    "df.columns"
   ]
  },
  {
   "cell_type": "code",
   "execution_count": 233,
   "metadata": {},
   "outputs": [
    {
     "data": {
      "text/plain": [
       "Index(['StateCode', 'Division', 'YearMonth', 'PCP', 'TAVG', 'PDSI', 'PHDI',\n",
       "       'ZNDX', 'PMDI', 'CDD', 'HDD', 'SP01', 'SP02', 'SP03', 'SP06', 'SP09',\n",
       "       'SP12', 'SP24', 'TMIN', 'TMAX', 'Unnamed: 20'],\n",
       "      dtype='object')"
      ]
     },
     "execution_count": 233,
     "metadata": {},
     "output_type": "execute_result"
    }
   ],
   "source": [
    "df.columns = df.columns.str.strip()\n",
    "df.columns"
   ]
  },
  {
   "cell_type": "markdown",
   "metadata": {},
   "source": [
    "### Find the hottest months recorded\n",
    "\n",
    "Just to make sure you cleaned it all up correctly - if you didn't clean the column titles, this won't work."
   ]
  },
  {
   "cell_type": "code",
   "execution_count": 234,
   "metadata": {},
   "outputs": [],
   "source": [
    "pd.set_option(\"display.max_columns\", 100)"
   ]
  },
  {
   "cell_type": "code",
   "execution_count": 235,
   "metadata": {},
   "outputs": [
    {
     "data": {
      "text/html": [
       "<div>\n",
       "<style>\n",
       "    .dataframe thead tr:only-child th {\n",
       "        text-align: right;\n",
       "    }\n",
       "\n",
       "    .dataframe thead th {\n",
       "        text-align: left;\n",
       "    }\n",
       "\n",
       "    .dataframe tbody tr th {\n",
       "        vertical-align: top;\n",
       "    }\n",
       "</style>\n",
       "<table border=\"1\" class=\"dataframe\">\n",
       "  <thead>\n",
       "    <tr style=\"text-align: right;\">\n",
       "      <th></th>\n",
       "      <th>YearMonth</th>\n",
       "      <th>TMAX</th>\n",
       "    </tr>\n",
       "  </thead>\n",
       "  <tbody>\n",
       "    <tr>\n",
       "      <th>498</th>\n",
       "      <td>193607</td>\n",
       "      <td>90.84</td>\n",
       "    </tr>\n",
       "    <tr>\n",
       "      <th>474</th>\n",
       "      <td>193407</td>\n",
       "      <td>90.55</td>\n",
       "    </tr>\n",
       "    <tr>\n",
       "      <th>78</th>\n",
       "      <td>190107</td>\n",
       "      <td>89.96</td>\n",
       "    </tr>\n",
       "    <tr>\n",
       "      <th>1410</th>\n",
       "      <td>201207</td>\n",
       "      <td>89.96</td>\n",
       "    </tr>\n",
       "    <tr>\n",
       "      <th>1338</th>\n",
       "      <td>200607</td>\n",
       "      <td>89.58</td>\n",
       "    </tr>\n",
       "  </tbody>\n",
       "</table>\n",
       "</div>"
      ],
      "text/plain": [
       "      YearMonth   TMAX\n",
       "498      193607  90.84\n",
       "474      193407  90.55\n",
       "78       190107  89.96\n",
       "1410     201207  89.96\n",
       "1338     200607  89.58"
      ]
     },
     "execution_count": 235,
     "metadata": {},
     "output_type": "execute_result"
    }
   ],
   "source": [
    "df.sort_values(by='TMAX', ascending=False)[['YearMonth', 'TMAX']].head()"
   ]
  },
  {
   "cell_type": "markdown",
   "metadata": {},
   "source": [
    "## That \"Unnamed\" column doesn't actually do anything. Delete it!\n",
    "\n",
    "One of the things we talked about last class was **creating new dataframes** instead of editing our old ones. So we *could* do this:\n",
    "\n",
    "```python\n",
    "df = df[['col1', 'col2', 'col2', 'col3']]\n",
    "```\n",
    "\n",
    "**But don't do that!** I don't want you to type out all of those columns. I just want you to delete that column."
   ]
  },
  {
   "cell_type": "code",
   "execution_count": 236,
   "metadata": {},
   "outputs": [
    {
     "data": {
      "text/plain": [
       "Index(['StateCode', 'Division', 'YearMonth', 'PCP', 'TAVG', 'PDSI', 'PHDI',\n",
       "       'ZNDX', 'PMDI', 'CDD', 'HDD', 'SP01', 'SP02', 'SP03', 'SP06', 'SP09',\n",
       "       'SP12', 'SP24', 'TMIN', 'TMAX', 'Unnamed: 20'],\n",
       "      dtype='object')"
      ]
     },
     "execution_count": 236,
     "metadata": {},
     "output_type": "execute_result"
    }
   ],
   "source": [
    "df.columns"
   ]
  },
  {
   "cell_type": "code",
   "execution_count": 237,
   "metadata": {},
   "outputs": [],
   "source": [
    "del df['Unnamed: 20']"
   ]
  },
  {
   "cell_type": "markdown",
   "metadata": {},
   "source": [
    "## What is the `YearMonth` column?\n",
    "\n",
    "What is its data type, and what is the content in it?"
   ]
  },
  {
   "cell_type": "code",
   "execution_count": 238,
   "metadata": {},
   "outputs": [
    {
     "data": {
      "text/plain": [
       "0    189501\n",
       "1    189502\n",
       "2    189503\n",
       "3    189504\n",
       "4    189505\n",
       "Name: YearMonth, dtype: int64"
      ]
     },
     "execution_count": 238,
     "metadata": {},
     "output_type": "execute_result"
    }
   ],
   "source": [
    "df['YearMonth'].head()"
   ]
  },
  {
   "cell_type": "markdown",
   "metadata": {},
   "source": [
    "## Convert `YearMonth` into a date (don't save it anywhere yet)\n",
    "\n",
    "**Be sure to pass a `format=` to the converter.** It will work automatically, but it's better to get practice.\n",
    "\n",
    "If you convert it correctly, it should look like...\n",
    "\n",
    "    0      1895-01-01\n",
    "    1      1895-02-01\n",
    "    2      1895-03-01\n",
    "    3      1895-04-01\n",
    "    ..."
   ]
  },
  {
   "cell_type": "code",
   "execution_count": 239,
   "metadata": {},
   "outputs": [
    {
     "data": {
      "text/plain": [
       "0      1895-01-01\n",
       "1      1895-02-01\n",
       "2      1895-03-01\n",
       "3      1895-04-01\n",
       "4      1895-05-01\n",
       "5      1895-06-01\n",
       "6      1895-07-01\n",
       "7      1895-08-01\n",
       "8      1895-09-01\n",
       "9      1895-10-01\n",
       "10     1895-11-01\n",
       "11     1895-12-01\n",
       "12     1896-01-01\n",
       "13     1896-02-01\n",
       "14     1896-03-01\n",
       "15     1896-04-01\n",
       "16     1896-05-01\n",
       "17     1896-06-01\n",
       "18     1896-07-01\n",
       "19     1896-08-01\n",
       "20     1896-09-01\n",
       "21     1896-10-01\n",
       "22     1896-11-01\n",
       "23     1896-12-01\n",
       "24     1897-01-01\n",
       "25     1897-02-01\n",
       "26     1897-03-01\n",
       "27     1897-04-01\n",
       "28     1897-05-01\n",
       "29     1897-06-01\n",
       "          ...    \n",
       "1435   2014-08-01\n",
       "1436   2014-09-01\n",
       "1437   2014-10-01\n",
       "1438   2014-11-01\n",
       "1439   2014-12-01\n",
       "1440   2015-01-01\n",
       "1441   2015-02-01\n",
       "1442   2015-03-01\n",
       "1443   2015-04-01\n",
       "1444   2015-05-01\n",
       "1445   2015-06-01\n",
       "1446   2015-07-01\n",
       "1447   2015-08-01\n",
       "1448   2015-09-01\n",
       "1449   2015-10-01\n",
       "1450   2015-11-01\n",
       "1451   2015-12-01\n",
       "1452   2016-01-01\n",
       "1453   2016-02-01\n",
       "1454   2016-03-01\n",
       "1455   2016-04-01\n",
       "1456   2016-05-01\n",
       "1457   2016-06-01\n",
       "1458   2016-07-01\n",
       "1459   2016-08-01\n",
       "1460   2016-09-01\n",
       "1461   2016-10-01\n",
       "1462   2016-11-01\n",
       "1463   2016-12-01\n",
       "1464   2017-01-01\n",
       "Name: YearMonth, Length: 1465, dtype: datetime64[ns]"
      ]
     },
     "execution_count": 239,
     "metadata": {},
     "output_type": "execute_result"
    }
   ],
   "source": [
    "pd.to_datetime(df['YearMonth'].astype(str), format=\"%Y%m\")"
   ]
  },
  {
   "cell_type": "markdown",
   "metadata": {},
   "source": [
    "## Save this converted version into a new column called `Date`"
   ]
  },
  {
   "cell_type": "code",
   "execution_count": 240,
   "metadata": {},
   "outputs": [
    {
     "data": {
      "text/html": [
       "<div>\n",
       "<style>\n",
       "    .dataframe thead tr:only-child th {\n",
       "        text-align: right;\n",
       "    }\n",
       "\n",
       "    .dataframe thead th {\n",
       "        text-align: left;\n",
       "    }\n",
       "\n",
       "    .dataframe tbody tr th {\n",
       "        vertical-align: top;\n",
       "    }\n",
       "</style>\n",
       "<table border=\"1\" class=\"dataframe\">\n",
       "  <thead>\n",
       "    <tr style=\"text-align: right;\">\n",
       "      <th></th>\n",
       "      <th>StateCode</th>\n",
       "      <th>Division</th>\n",
       "      <th>YearMonth</th>\n",
       "      <th>PCP</th>\n",
       "      <th>TAVG</th>\n",
       "      <th>PDSI</th>\n",
       "      <th>PHDI</th>\n",
       "      <th>ZNDX</th>\n",
       "      <th>PMDI</th>\n",
       "      <th>CDD</th>\n",
       "      <th>HDD</th>\n",
       "      <th>SP01</th>\n",
       "      <th>SP02</th>\n",
       "      <th>SP03</th>\n",
       "      <th>SP06</th>\n",
       "      <th>SP09</th>\n",
       "      <th>SP12</th>\n",
       "      <th>SP24</th>\n",
       "      <th>TMIN</th>\n",
       "      <th>TMAX</th>\n",
       "      <th>Date</th>\n",
       "    </tr>\n",
       "  </thead>\n",
       "  <tbody>\n",
       "    <tr>\n",
       "      <th>0</th>\n",
       "      <td>110</td>\n",
       "      <td>0</td>\n",
       "      <td>189501</td>\n",
       "      <td>3.32</td>\n",
       "      <td>26.69</td>\n",
       "      <td>1.47</td>\n",
       "      <td>1.47</td>\n",
       "      <td>4.42</td>\n",
       "      <td>1.47</td>\n",
       "      <td>6</td>\n",
       "      <td>1017</td>\n",
       "      <td>1.79</td>\n",
       "      <td>NaN</td>\n",
       "      <td>NaN</td>\n",
       "      <td>NaN</td>\n",
       "      <td>NaN</td>\n",
       "      <td>NaN</td>\n",
       "      <td>NaN</td>\n",
       "      <td>16.52</td>\n",
       "      <td>36.86</td>\n",
       "      <td>1895-01-01</td>\n",
       "    </tr>\n",
       "    <tr>\n",
       "      <th>1</th>\n",
       "      <td>110</td>\n",
       "      <td>0</td>\n",
       "      <td>189502</td>\n",
       "      <td>1.41</td>\n",
       "      <td>26.60</td>\n",
       "      <td>-0.45</td>\n",
       "      <td>0.87</td>\n",
       "      <td>-1.35</td>\n",
       "      <td>0.07</td>\n",
       "      <td>1</td>\n",
       "      <td>974</td>\n",
       "      <td>-1.69</td>\n",
       "      <td>0.52</td>\n",
       "      <td>NaN</td>\n",
       "      <td>NaN</td>\n",
       "      <td>NaN</td>\n",
       "      <td>NaN</td>\n",
       "      <td>NaN</td>\n",
       "      <td>15.57</td>\n",
       "      <td>37.65</td>\n",
       "      <td>1895-02-01</td>\n",
       "    </tr>\n",
       "    <tr>\n",
       "      <th>2</th>\n",
       "      <td>110</td>\n",
       "      <td>0</td>\n",
       "      <td>189503</td>\n",
       "      <td>1.99</td>\n",
       "      <td>39.97</td>\n",
       "      <td>-0.83</td>\n",
       "      <td>-0.83</td>\n",
       "      <td>-1.28</td>\n",
       "      <td>-0.83</td>\n",
       "      <td>13</td>\n",
       "      <td>692</td>\n",
       "      <td>-1.09</td>\n",
       "      <td>-2.11</td>\n",
       "      <td>-0.16</td>\n",
       "      <td>NaN</td>\n",
       "      <td>NaN</td>\n",
       "      <td>NaN</td>\n",
       "      <td>NaN</td>\n",
       "      <td>27.86</td>\n",
       "      <td>52.07</td>\n",
       "      <td>1895-03-01</td>\n",
       "    </tr>\n",
       "    <tr>\n",
       "      <th>3</th>\n",
       "      <td>110</td>\n",
       "      <td>0</td>\n",
       "      <td>189504</td>\n",
       "      <td>1.99</td>\n",
       "      <td>52.90</td>\n",
       "      <td>-1.42</td>\n",
       "      <td>-1.42</td>\n",
       "      <td>-2.02</td>\n",
       "      <td>-1.42</td>\n",
       "      <td>27</td>\n",
       "      <td>345</td>\n",
       "      <td>-1.24</td>\n",
       "      <td>-1.62</td>\n",
       "      <td>-2.86</td>\n",
       "      <td>NaN</td>\n",
       "      <td>NaN</td>\n",
       "      <td>NaN</td>\n",
       "      <td>NaN</td>\n",
       "      <td>39.45</td>\n",
       "      <td>66.33</td>\n",
       "      <td>1895-04-01</td>\n",
       "    </tr>\n",
       "    <tr>\n",
       "      <th>4</th>\n",
       "      <td>110</td>\n",
       "      <td>0</td>\n",
       "      <td>189505</td>\n",
       "      <td>2.88</td>\n",
       "      <td>59.94</td>\n",
       "      <td>0.04</td>\n",
       "      <td>-1.23</td>\n",
       "      <td>0.12</td>\n",
       "      <td>-1.08</td>\n",
       "      <td>88</td>\n",
       "      <td>155</td>\n",
       "      <td>-0.03</td>\n",
       "      <td>-0.78</td>\n",
       "      <td>-1.15</td>\n",
       "      <td>NaN</td>\n",
       "      <td>NaN</td>\n",
       "      <td>NaN</td>\n",
       "      <td>NaN</td>\n",
       "      <td>47.05</td>\n",
       "      <td>72.81</td>\n",
       "      <td>1895-05-01</td>\n",
       "    </tr>\n",
       "  </tbody>\n",
       "</table>\n",
       "</div>"
      ],
      "text/plain": [
       "   StateCode  Division  YearMonth   PCP   TAVG  PDSI  PHDI  ZNDX  PMDI  CDD  \\\n",
       "0        110         0     189501  3.32  26.69  1.47  1.47  4.42  1.47    6   \n",
       "1        110         0     189502  1.41  26.60 -0.45  0.87 -1.35  0.07    1   \n",
       "2        110         0     189503  1.99  39.97 -0.83 -0.83 -1.28 -0.83   13   \n",
       "3        110         0     189504  1.99  52.90 -1.42 -1.42 -2.02 -1.42   27   \n",
       "4        110         0     189505  2.88  59.94  0.04 -1.23  0.12 -1.08   88   \n",
       "\n",
       "    HDD  SP01  SP02  SP03  SP06  SP09  SP12  SP24   TMIN   TMAX       Date  \n",
       "0  1017  1.79   NaN   NaN   NaN   NaN   NaN   NaN  16.52  36.86 1895-01-01  \n",
       "1   974 -1.69  0.52   NaN   NaN   NaN   NaN   NaN  15.57  37.65 1895-02-01  \n",
       "2   692 -1.09 -2.11 -0.16   NaN   NaN   NaN   NaN  27.86  52.07 1895-03-01  \n",
       "3   345 -1.24 -1.62 -2.86   NaN   NaN   NaN   NaN  39.45  66.33 1895-04-01  \n",
       "4   155 -0.03 -0.78 -1.15   NaN   NaN   NaN   NaN  47.05  72.81 1895-05-01  "
      ]
     },
     "execution_count": 240,
     "metadata": {},
     "output_type": "execute_result"
    }
   ],
   "source": [
    "df['Date'] = pd.to_datetime(df['YearMonth'].astype(str), format=\"%Y%m\")\n",
    "df.head()"
   ]
  },
  {
   "cell_type": "markdown",
   "metadata": {},
   "source": [
    "### What is the datatype of the `Date` columns?"
   ]
  },
  {
   "cell_type": "code",
   "execution_count": 241,
   "metadata": {},
   "outputs": [
    {
     "data": {
      "text/plain": [
       "StateCode             int64\n",
       "Division              int64\n",
       "YearMonth             int64\n",
       "PCP                 float64\n",
       "TAVG                float64\n",
       "PDSI                float64\n",
       "PHDI                float64\n",
       "ZNDX                float64\n",
       "PMDI                float64\n",
       "CDD                   int64\n",
       "HDD                   int64\n",
       "SP01                float64\n",
       "SP02                float64\n",
       "SP03                float64\n",
       "SP06                float64\n",
       "SP09                float64\n",
       "SP12                float64\n",
       "SP24                float64\n",
       "TMIN                float64\n",
       "TMAX                float64\n",
       "Date         datetime64[ns]\n",
       "dtype: object"
      ]
     },
     "execution_count": 241,
     "metadata": {},
     "output_type": "execute_result"
    }
   ],
   "source": [
    "df.dtypes"
   ]
  },
  {
   "cell_type": "markdown",
   "metadata": {},
   "source": [
    "# Graphing"
   ]
  },
  {
   "cell_type": "markdown",
   "metadata": {},
   "source": [
    "## Graph the maximum temperature over time using the old `YearMonth` column\n",
    "\n",
    "Make it so wide it **extends across your entire screen**."
   ]
  },
  {
   "cell_type": "code",
   "execution_count": 242,
   "metadata": {},
   "outputs": [
    {
     "data": {
      "text/plain": [
       "<matplotlib.axes._subplots.AxesSubplot at 0x112350320>"
      ]
     },
     "execution_count": 242,
     "metadata": {},
     "output_type": "execute_result"
    },
    {
     "data": {
      "image/png": "[encoded data removed]",
      "text/plain": [
       "<matplotlib.figure.Figure at 0x1122f9e80>"
      ]
     },
     "metadata": {},
     "output_type": "display_data"
    }
   ],
   "source": [
    "df.plot(x='YearMonth', y='TMAX', figsize=(15, 4))"
   ]
  },
  {
   "cell_type": "markdown",
   "metadata": {},
   "source": [
    "## Graph the maximum temperature over time using the new `Date` column\n",
    "\n",
    "Make it so wide it **extends across your entire screen**."
   ]
  },
  {
   "cell_type": "code",
   "execution_count": 243,
   "metadata": {},
   "outputs": [
    {
     "data": {
      "text/plain": [
       "<matplotlib.axes._subplots.AxesSubplot at 0x111e45cf8>"
      ]
     },
     "execution_count": 243,
     "metadata": {},
     "output_type": "execute_result"
    },
    {
     "data": {
      "image/png": "[encoded data removed]",
      "text/plain": [
       "<matplotlib.figure.Figure at 0x110a5a198>"
      ]
     },
     "metadata": {},
     "output_type": "display_data"
    }
   ],
   "source": [
    "df.plot(x='Date', y='TMAX', figsize=(15, 4))"
   ]
  },
  {
   "cell_type": "markdown",
   "metadata": {},
   "source": [
    "## How do they look different? Which one is better, and why?"
   ]
  },
  {
   "cell_type": "code",
   "execution_count": 218,
   "metadata": {},
   "outputs": [],
   "source": [
    "#Second one looks much cleaner. "
   ]
  },
  {
   "cell_type": "markdown",
   "metadata": {},
   "source": [
    "# Resampling\n",
    "\n",
    "Check that you have pandas 0.19.0 or newer by typing `pd.__version__`. If you have an earlier version, use `pip install -U pandas` to update."
   ]
  },
  {
   "cell_type": "code",
   "execution_count": 244,
   "metadata": {},
   "outputs": [
    {
     "data": {
      "text/plain": [
       "'0.20.2'"
      ]
     },
     "execution_count": 244,
     "metadata": {},
     "output_type": "execute_result"
    }
   ],
   "source": [
    "pd.__version__"
   ]
  },
  {
   "cell_type": "markdown",
   "metadata": {},
   "source": [
    "## View the average yearly temperature\n",
    "\n",
    "**Don't use `.set_index` yet.** When using `resample`, you can also say `on='colname'` in order to say \"resample using this column instead of using the index. Use that here."
   ]
  },
  {
   "cell_type": "code",
   "execution_count": 220,
   "metadata": {},
   "outputs": [],
   "source": [
    "#df.plot(x='Date', y='TAVG', figsize=(15, 4))#"
   ]
  },
  {
   "cell_type": "code",
   "execution_count": 245,
   "metadata": {},
   "outputs": [
    {
     "data": {
      "text/plain": [
       "Date\n",
       "1895-12-31    50.337500\n",
       "1896-12-31    51.993333\n",
       "1897-12-31    51.556667\n",
       "1898-12-31    51.431667\n",
       "1899-12-31    51.009167\n",
       "1900-12-31    52.773333\n",
       "1901-12-31    51.874167\n",
       "1902-12-31    51.588333\n",
       "1903-12-31    50.624167\n",
       "1904-12-31    51.155000\n",
       "1905-12-31    50.996667\n",
       "1906-12-31    51.725000\n",
       "1907-12-31    51.483333\n",
       "1908-12-31    52.076667\n",
       "1909-12-31    51.433333\n",
       "1910-12-31    52.422500\n",
       "1911-12-31    52.028333\n",
       "1912-12-31    50.232500\n",
       "1913-12-31    51.542500\n",
       "1914-12-31    51.840000\n",
       "1915-12-31    51.446667\n",
       "1916-12-31    50.848333\n",
       "1917-12-31    50.062500\n",
       "1918-12-31    51.867500\n",
       "1919-12-31    51.548333\n",
       "1920-12-31    51.074167\n",
       "1921-12-31    53.800000\n",
       "1922-12-31    52.026667\n",
       "1923-12-31    51.639167\n",
       "1924-12-31    50.587500\n",
       "                ...    \n",
       "1988-12-31    52.630000\n",
       "1989-12-31    51.835000\n",
       "1990-12-31    53.514167\n",
       "1991-12-31    53.158333\n",
       "1992-12-31    52.604167\n",
       "1993-12-31    51.262500\n",
       "1994-12-31    52.865833\n",
       "1995-12-31    52.653333\n",
       "1996-12-31    51.885000\n",
       "1997-12-31    52.201667\n",
       "1998-12-31    54.233333\n",
       "1999-12-31    53.875833\n",
       "2000-12-31    53.266667\n",
       "2001-12-31    53.695000\n",
       "2002-12-31    53.208333\n",
       "2003-12-31    53.258333\n",
       "2004-12-31    53.095000\n",
       "2005-12-31    53.637500\n",
       "2006-12-31    54.251667\n",
       "2007-12-31    53.653333\n",
       "2008-12-31    52.294167\n",
       "2009-12-31    52.390000\n",
       "2010-12-31    52.984167\n",
       "2011-12-31    53.183333\n",
       "2012-12-31    55.284167\n",
       "2013-12-31    52.426667\n",
       "2014-12-31    52.539167\n",
       "2015-12-31    54.401667\n",
       "2016-12-31    54.911667\n",
       "2017-12-31    33.550000\n",
       "Freq: A-DEC, Name: TAVG, Length: 123, dtype: float64"
      ]
     },
     "execution_count": 245,
     "metadata": {},
     "output_type": "execute_result"
    }
   ],
   "source": [
    "df.resample(\"A\", on='Date')['TAVG'].mean()"
   ]
  },
  {
   "cell_type": "markdown",
   "metadata": {},
   "source": [
    "## Graph the average annual temperature\n",
    "\n",
    "Be sure ot make it **nice and wide**."
   ]
  },
  {
   "cell_type": "code",
   "execution_count": 246,
   "metadata": {},
   "outputs": [
    {
     "data": {
      "text/plain": [
       "<matplotlib.axes._subplots.AxesSubplot at 0x110b0a048>"
      ]
     },
     "execution_count": 246,
     "metadata": {},
     "output_type": "execute_result"
    },
    {
     "data": {
      "image/png": "[encoded data removed]",
      "text/plain": [
       "<matplotlib.figure.Figure at 0x110b1bcc0>"
      ]
     },
     "metadata": {},
     "output_type": "display_data"
    }
   ],
   "source": [
    "df.resample(\"A\", on='Date')['TAVG'].mean().plot(figsize=(15,4))"
   ]
  },
  {
   "cell_type": "markdown",
   "metadata": {},
   "source": [
    "## What's wrong with the right-hand side?\n",
    "\n",
    "Use `.set_index` to get a datetime index and then examine the months in 1990 and the months in 2017 and see what's different about them."
   ]
  },
  {
   "cell_type": "code",
   "execution_count": 247,
   "metadata": {},
   "outputs": [
    {
     "data": {
      "text/html": [
       "<div>\n",
       "<style>\n",
       "    .dataframe thead tr:only-child th {\n",
       "        text-align: right;\n",
       "    }\n",
       "\n",
       "    .dataframe thead th {\n",
       "        text-align: left;\n",
       "    }\n",
       "\n",
       "    .dataframe tbody tr th {\n",
       "        vertical-align: top;\n",
       "    }\n",
       "</style>\n",
       "<table border=\"1\" class=\"dataframe\">\n",
       "  <thead>\n",
       "    <tr style=\"text-align: right;\">\n",
       "      <th></th>\n",
       "      <th>StateCode</th>\n",
       "      <th>Division</th>\n",
       "      <th>YearMonth</th>\n",
       "      <th>PCP</th>\n",
       "      <th>TAVG</th>\n",
       "      <th>PDSI</th>\n",
       "      <th>PHDI</th>\n",
       "      <th>ZNDX</th>\n",
       "      <th>PMDI</th>\n",
       "      <th>CDD</th>\n",
       "      <th>HDD</th>\n",
       "      <th>SP01</th>\n",
       "      <th>SP02</th>\n",
       "      <th>SP03</th>\n",
       "      <th>SP06</th>\n",
       "      <th>SP09</th>\n",
       "      <th>SP12</th>\n",
       "      <th>SP24</th>\n",
       "      <th>TMIN</th>\n",
       "      <th>TMAX</th>\n",
       "      <th>Date</th>\n",
       "    </tr>\n",
       "  </thead>\n",
       "  <tbody>\n",
       "    <tr>\n",
       "      <th>0</th>\n",
       "      <td>110</td>\n",
       "      <td>0</td>\n",
       "      <td>189501</td>\n",
       "      <td>3.32</td>\n",
       "      <td>26.69</td>\n",
       "      <td>1.47</td>\n",
       "      <td>1.47</td>\n",
       "      <td>4.42</td>\n",
       "      <td>1.47</td>\n",
       "      <td>6</td>\n",
       "      <td>1017</td>\n",
       "      <td>1.79</td>\n",
       "      <td>NaN</td>\n",
       "      <td>NaN</td>\n",
       "      <td>NaN</td>\n",
       "      <td>NaN</td>\n",
       "      <td>NaN</td>\n",
       "      <td>NaN</td>\n",
       "      <td>16.52</td>\n",
       "      <td>36.86</td>\n",
       "      <td>1895-01-01</td>\n",
       "    </tr>\n",
       "    <tr>\n",
       "      <th>1</th>\n",
       "      <td>110</td>\n",
       "      <td>0</td>\n",
       "      <td>189502</td>\n",
       "      <td>1.41</td>\n",
       "      <td>26.60</td>\n",
       "      <td>-0.45</td>\n",
       "      <td>0.87</td>\n",
       "      <td>-1.35</td>\n",
       "      <td>0.07</td>\n",
       "      <td>1</td>\n",
       "      <td>974</td>\n",
       "      <td>-1.69</td>\n",
       "      <td>0.52</td>\n",
       "      <td>NaN</td>\n",
       "      <td>NaN</td>\n",
       "      <td>NaN</td>\n",
       "      <td>NaN</td>\n",
       "      <td>NaN</td>\n",
       "      <td>15.57</td>\n",
       "      <td>37.65</td>\n",
       "      <td>1895-02-01</td>\n",
       "    </tr>\n",
       "  </tbody>\n",
       "</table>\n",
       "</div>"
      ],
      "text/plain": [
       "   StateCode  Division  YearMonth   PCP   TAVG  PDSI  PHDI  ZNDX  PMDI  CDD  \\\n",
       "0        110         0     189501  3.32  26.69  1.47  1.47  4.42  1.47    6   \n",
       "1        110         0     189502  1.41  26.60 -0.45  0.87 -1.35  0.07    1   \n",
       "\n",
       "    HDD  SP01  SP02  SP03  SP06  SP09  SP12  SP24   TMIN   TMAX       Date  \n",
       "0  1017  1.79   NaN   NaN   NaN   NaN   NaN   NaN  16.52  36.86 1895-01-01  \n",
       "1   974 -1.69  0.52   NaN   NaN   NaN   NaN   NaN  15.57  37.65 1895-02-01  "
      ]
     },
     "execution_count": 247,
     "metadata": {},
     "output_type": "execute_result"
    }
   ],
   "source": [
    "df.head(2)"
   ]
  },
  {
   "cell_type": "code",
   "execution_count": 248,
   "metadata": {},
   "outputs": [],
   "source": [
    "df.set_index('Date', inplace=True)"
   ]
  },
  {
   "cell_type": "code",
   "execution_count": 249,
   "metadata": {},
   "outputs": [
    {
     "data": {
      "text/html": [
       "<div>\n",
       "<style>\n",
       "    .dataframe thead tr:only-child th {\n",
       "        text-align: right;\n",
       "    }\n",
       "\n",
       "    .dataframe thead th {\n",
       "        text-align: left;\n",
       "    }\n",
       "\n",
       "    .dataframe tbody tr th {\n",
       "        vertical-align: top;\n",
       "    }\n",
       "</style>\n",
       "<table border=\"1\" class=\"dataframe\">\n",
       "  <thead>\n",
       "    <tr style=\"text-align: right;\">\n",
       "      <th></th>\n",
       "      <th>StateCode</th>\n",
       "      <th>Division</th>\n",
       "      <th>YearMonth</th>\n",
       "      <th>PCP</th>\n",
       "      <th>TAVG</th>\n",
       "      <th>PDSI</th>\n",
       "      <th>PHDI</th>\n",
       "      <th>ZNDX</th>\n",
       "      <th>PMDI</th>\n",
       "      <th>CDD</th>\n",
       "      <th>HDD</th>\n",
       "      <th>SP01</th>\n",
       "      <th>SP02</th>\n",
       "      <th>SP03</th>\n",
       "      <th>SP06</th>\n",
       "      <th>SP09</th>\n",
       "      <th>SP12</th>\n",
       "      <th>SP24</th>\n",
       "      <th>TMIN</th>\n",
       "      <th>TMAX</th>\n",
       "    </tr>\n",
       "    <tr>\n",
       "      <th>Date</th>\n",
       "      <th></th>\n",
       "      <th></th>\n",
       "      <th></th>\n",
       "      <th></th>\n",
       "      <th></th>\n",
       "      <th></th>\n",
       "      <th></th>\n",
       "      <th></th>\n",
       "      <th></th>\n",
       "      <th></th>\n",
       "      <th></th>\n",
       "      <th></th>\n",
       "      <th></th>\n",
       "      <th></th>\n",
       "      <th></th>\n",
       "      <th></th>\n",
       "      <th></th>\n",
       "      <th></th>\n",
       "      <th></th>\n",
       "      <th></th>\n",
       "    </tr>\n",
       "  </thead>\n",
       "  <tbody>\n",
       "    <tr>\n",
       "      <th>1895-01-01</th>\n",
       "      <td>110</td>\n",
       "      <td>0</td>\n",
       "      <td>189501</td>\n",
       "      <td>3.32</td>\n",
       "      <td>26.69</td>\n",
       "      <td>1.47</td>\n",
       "      <td>1.47</td>\n",
       "      <td>4.42</td>\n",
       "      <td>1.47</td>\n",
       "      <td>6</td>\n",
       "      <td>1017</td>\n",
       "      <td>1.79</td>\n",
       "      <td>NaN</td>\n",
       "      <td>NaN</td>\n",
       "      <td>NaN</td>\n",
       "      <td>NaN</td>\n",
       "      <td>NaN</td>\n",
       "      <td>NaN</td>\n",
       "      <td>16.52</td>\n",
       "      <td>36.86</td>\n",
       "    </tr>\n",
       "    <tr>\n",
       "      <th>1895-02-01</th>\n",
       "      <td>110</td>\n",
       "      <td>0</td>\n",
       "      <td>189502</td>\n",
       "      <td>1.41</td>\n",
       "      <td>26.60</td>\n",
       "      <td>-0.45</td>\n",
       "      <td>0.87</td>\n",
       "      <td>-1.35</td>\n",
       "      <td>0.07</td>\n",
       "      <td>1</td>\n",
       "      <td>974</td>\n",
       "      <td>-1.69</td>\n",
       "      <td>0.52</td>\n",
       "      <td>NaN</td>\n",
       "      <td>NaN</td>\n",
       "      <td>NaN</td>\n",
       "      <td>NaN</td>\n",
       "      <td>NaN</td>\n",
       "      <td>15.57</td>\n",
       "      <td>37.65</td>\n",
       "    </tr>\n",
       "  </tbody>\n",
       "</table>\n",
       "</div>"
      ],
      "text/plain": [
       "            StateCode  Division  YearMonth   PCP   TAVG  PDSI  PHDI  ZNDX  \\\n",
       "Date                                                                        \n",
       "1895-01-01        110         0     189501  3.32  26.69  1.47  1.47  4.42   \n",
       "1895-02-01        110         0     189502  1.41  26.60 -0.45  0.87 -1.35   \n",
       "\n",
       "            PMDI  CDD   HDD  SP01  SP02  SP03  SP06  SP09  SP12  SP24   TMIN  \\\n",
       "Date                                                                           \n",
       "1895-01-01  1.47    6  1017  1.79   NaN   NaN   NaN   NaN   NaN   NaN  16.52   \n",
       "1895-02-01  0.07    1   974 -1.69  0.52   NaN   NaN   NaN   NaN   NaN  15.57   \n",
       "\n",
       "             TMAX  \n",
       "Date               \n",
       "1895-01-01  36.86  \n",
       "1895-02-01  37.65  "
      ]
     },
     "execution_count": 249,
     "metadata": {},
     "output_type": "execute_result"
    }
   ],
   "source": [
    "df.head(2)"
   ]
  },
  {
   "cell_type": "markdown",
   "metadata": {},
   "source": [
    "## Upgrading to good data\n",
    "\n",
    "**We can ignore 2017.** Edit our dataframe so it's only between the years of 1895 and 2016, and draw your graph again."
   ]
  },
  {
   "cell_type": "code",
   "execution_count": 254,
   "metadata": {},
   "outputs": [
    {
     "data": {
      "text/plain": [
       "<matplotlib.axes._subplots.AxesSubplot at 0x11130b588>"
      ]
     },
     "execution_count": 254,
     "metadata": {},
     "output_type": "execute_result"
    },
    {
     "data": {
      "image/png": "[encoded data removed]",
      "text/plain": [
       "<matplotlib.figure.Figure at 0x11130be80>"
      ]
     },
     "metadata": {},
     "output_type": "display_data"
    }
   ],
   "source": [
    "df = df['1895':'2016']\n",
    "df.resample(\"A\")['TAVG'].mean().plot(figsize=(15,4))"
   ]
  },
  {
   "cell_type": "markdown",
   "metadata": {},
   "source": [
    "### Maxes and mins\n",
    "\n",
    "What years had the hottest maximum temperature? The hottest minimum temperature?"
   ]
  },
  {
   "cell_type": "code",
   "execution_count": 260,
   "metadata": {},
   "outputs": [
    {
     "data": {
      "text/plain": [
       "Date\n",
       "1936-12-31    90.84\n",
       "1934-12-31    90.55\n",
       "1901-12-31    89.96\n",
       "2012-12-31    89.96\n",
       "2006-12-31    89.58\n",
       "1980-12-31    89.53\n",
       "1931-12-31    89.53\n",
       "1954-12-31    89.29\n",
       "1930-12-31    89.13\n",
       "2011-12-31    88.90\n",
       "2002-12-31    88.79\n",
       "1933-12-31    88.75\n",
       "2003-12-31    88.70\n",
       "1939-12-31    88.59\n",
       "2005-12-31    88.50\n",
       "1966-12-31    88.41\n",
       "1935-12-31    88.34\n",
       "1937-12-31    88.23\n",
       "1988-12-31    88.18\n",
       "1998-12-31    88.07\n",
       "1917-12-31    88.00\n",
       "1983-12-31    87.96\n",
       "2016-12-31    87.91\n",
       "1964-12-31    87.91\n",
       "1952-12-31    87.85\n",
       "1943-12-31    87.75\n",
       "1910-12-31    87.64\n",
       "1921-12-31    87.60\n",
       "1940-12-31    87.58\n",
       "1919-12-31    87.53\n",
       "              ...  \n",
       "1927-12-31    85.87\n",
       "1976-12-31    85.86\n",
       "1997-12-31    85.84\n",
       "1924-12-31    85.82\n",
       "1987-12-31    85.82\n",
       "2014-12-31    85.80\n",
       "1911-12-31    85.80\n",
       "1968-12-31    85.78\n",
       "1918-12-31    85.78\n",
       "1979-12-31    85.77\n",
       "1990-12-31    85.75\n",
       "1982-12-31    85.62\n",
       "1971-12-31    85.51\n",
       "1965-12-31    85.42\n",
       "1905-12-31    85.33\n",
       "2009-12-31    85.32\n",
       "1967-12-31    85.26\n",
       "2004-12-31    85.26\n",
       "1907-12-31    85.24\n",
       "1906-12-31    85.15\n",
       "1902-12-31    84.97\n",
       "1972-12-31    84.94\n",
       "1895-12-31    84.90\n",
       "1903-12-31    84.79\n",
       "1912-12-31    84.60\n",
       "1993-12-31    84.22\n",
       "1904-12-31    84.16\n",
       "1950-12-31    83.62\n",
       "1915-12-31    83.26\n",
       "1992-12-31    83.03\n",
       "Name: TMAX, Length: 122, dtype: float64"
      ]
     },
     "execution_count": 260,
     "metadata": {},
     "output_type": "execute_result"
    }
   ],
   "source": [
    "df.resample('A')['TMAX'].max().sort_values(ascending=False)"
   ]
  },
  {
   "cell_type": "code",
   "execution_count": 261,
   "metadata": {},
   "outputs": [
    {
     "data": {
      "text/plain": [
       "Date\n",
       "1998-12-31    25.11\n",
       "2012-12-31    24.67\n",
       "1921-12-31    24.24\n",
       "2002-12-31    23.90\n",
       "1995-12-31    23.56\n",
       "1953-12-31    23.41\n",
       "1986-12-31    23.32\n",
       "1999-12-31    23.13\n",
       "2006-12-31    22.98\n",
       "1941-12-31    22.86\n",
       "2005-12-31    22.62\n",
       "1992-12-31    22.60\n",
       "2016-12-31    22.60\n",
       "1934-12-31    22.46\n",
       "1911-12-31    22.41\n",
       "1906-12-31    22.37\n",
       "1931-12-31    22.35\n",
       "2003-12-31    22.24\n",
       "1938-12-31    22.14\n",
       "1980-12-31    21.85\n",
       "1975-12-31    21.81\n",
       "1952-12-31    21.70\n",
       "1908-12-31    21.61\n",
       "2015-12-31    21.58\n",
       "1896-12-31    21.52\n",
       "1987-12-31    21.36\n",
       "2007-12-31    21.33\n",
       "2010-12-31    21.31\n",
       "2001-12-31    21.31\n",
       "1974-12-31    21.31\n",
       "              ...  \n",
       "1917-12-31    17.55\n",
       "1988-12-31    17.44\n",
       "1970-12-31    17.04\n",
       "1957-12-31    16.97\n",
       "1978-12-31    16.86\n",
       "1948-12-31    16.79\n",
       "1989-12-31    16.57\n",
       "1905-12-31    16.56\n",
       "1983-12-31    16.52\n",
       "1909-12-31    16.45\n",
       "1966-12-31    16.39\n",
       "1922-12-31    16.38\n",
       "1904-12-31    16.34\n",
       "1985-12-31    16.20\n",
       "1949-12-31    16.12\n",
       "1962-12-31    16.11\n",
       "1895-12-31    15.57\n",
       "1929-12-31    15.51\n",
       "1982-12-31    15.12\n",
       "1924-12-31    14.85\n",
       "1937-12-31    14.74\n",
       "1899-12-31    14.65\n",
       "1936-12-31    14.20\n",
       "1912-12-31    14.14\n",
       "1940-12-31    14.09\n",
       "1930-12-31    13.32\n",
       "1918-12-31    13.28\n",
       "1963-12-31    12.97\n",
       "1979-12-31    12.58\n",
       "1977-12-31    12.52\n",
       "Name: TMIN, Length: 122, dtype: float64"
      ]
     },
     "execution_count": 261,
     "metadata": {},
     "output_type": "execute_result"
    }
   ],
   "source": [
    "df.resample('A')['TMIN'].min().sort_values(ascending=False)"
   ]
  },
  {
   "cell_type": "markdown",
   "metadata": {},
   "source": [
    "## Annual temperature cycles\n",
    "\n",
    "Graph the average temperature cycle of a year, with january on the left and december on the right."
   ]
  },
  {
   "cell_type": "code",
   "execution_count": 264,
   "metadata": {},
   "outputs": [
    {
     "data": {
      "text/html": [
       "<div>\n",
       "<style>\n",
       "    .dataframe thead tr:only-child th {\n",
       "        text-align: right;\n",
       "    }\n",
       "\n",
       "    .dataframe thead th {\n",
       "        text-align: left;\n",
       "    }\n",
       "\n",
       "    .dataframe tbody tr th {\n",
       "        vertical-align: top;\n",
       "    }\n",
       "</style>\n",
       "<table border=\"1\" class=\"dataframe\">\n",
       "  <thead>\n",
       "    <tr style=\"text-align: right;\">\n",
       "      <th></th>\n",
       "      <th>StateCode</th>\n",
       "      <th>Division</th>\n",
       "      <th>YearMonth</th>\n",
       "      <th>PCP</th>\n",
       "      <th>TAVG</th>\n",
       "      <th>PDSI</th>\n",
       "      <th>PHDI</th>\n",
       "      <th>ZNDX</th>\n",
       "      <th>PMDI</th>\n",
       "      <th>CDD</th>\n",
       "      <th>HDD</th>\n",
       "      <th>SP01</th>\n",
       "      <th>SP02</th>\n",
       "      <th>SP03</th>\n",
       "      <th>SP06</th>\n",
       "      <th>SP09</th>\n",
       "      <th>SP12</th>\n",
       "      <th>SP24</th>\n",
       "      <th>TMIN</th>\n",
       "      <th>TMAX</th>\n",
       "      <th>mon</th>\n",
       "    </tr>\n",
       "    <tr>\n",
       "      <th>Date</th>\n",
       "      <th></th>\n",
       "      <th></th>\n",
       "      <th></th>\n",
       "      <th></th>\n",
       "      <th></th>\n",
       "      <th></th>\n",
       "      <th></th>\n",
       "      <th></th>\n",
       "      <th></th>\n",
       "      <th></th>\n",
       "      <th></th>\n",
       "      <th></th>\n",
       "      <th></th>\n",
       "      <th></th>\n",
       "      <th></th>\n",
       "      <th></th>\n",
       "      <th></th>\n",
       "      <th></th>\n",
       "      <th></th>\n",
       "      <th></th>\n",
       "      <th></th>\n",
       "    </tr>\n",
       "  </thead>\n",
       "  <tbody>\n",
       "    <tr>\n",
       "      <th>1895-01-01</th>\n",
       "      <td>110</td>\n",
       "      <td>0</td>\n",
       "      <td>189501</td>\n",
       "      <td>3.32</td>\n",
       "      <td>26.69</td>\n",
       "      <td>1.47</td>\n",
       "      <td>1.47</td>\n",
       "      <td>4.42</td>\n",
       "      <td>1.47</td>\n",
       "      <td>6</td>\n",
       "      <td>1017</td>\n",
       "      <td>1.79</td>\n",
       "      <td>NaN</td>\n",
       "      <td>NaN</td>\n",
       "      <td>NaN</td>\n",
       "      <td>NaN</td>\n",
       "      <td>NaN</td>\n",
       "      <td>NaN</td>\n",
       "      <td>16.52</td>\n",
       "      <td>36.86</td>\n",
       "      <td>1</td>\n",
       "    </tr>\n",
       "    <tr>\n",
       "      <th>1895-02-01</th>\n",
       "      <td>110</td>\n",
       "      <td>0</td>\n",
       "      <td>189502</td>\n",
       "      <td>1.41</td>\n",
       "      <td>26.60</td>\n",
       "      <td>-0.45</td>\n",
       "      <td>0.87</td>\n",
       "      <td>-1.35</td>\n",
       "      <td>0.07</td>\n",
       "      <td>1</td>\n",
       "      <td>974</td>\n",
       "      <td>-1.69</td>\n",
       "      <td>0.52</td>\n",
       "      <td>NaN</td>\n",
       "      <td>NaN</td>\n",
       "      <td>NaN</td>\n",
       "      <td>NaN</td>\n",
       "      <td>NaN</td>\n",
       "      <td>15.57</td>\n",
       "      <td>37.65</td>\n",
       "      <td>2</td>\n",
       "    </tr>\n",
       "    <tr>\n",
       "      <th>1895-03-01</th>\n",
       "      <td>110</td>\n",
       "      <td>0</td>\n",
       "      <td>189503</td>\n",
       "      <td>1.99</td>\n",
       "      <td>39.97</td>\n",
       "      <td>-0.83</td>\n",
       "      <td>-0.83</td>\n",
       "      <td>-1.28</td>\n",
       "      <td>-0.83</td>\n",
       "      <td>13</td>\n",
       "      <td>692</td>\n",
       "      <td>-1.09</td>\n",
       "      <td>-2.11</td>\n",
       "      <td>-0.16</td>\n",
       "      <td>NaN</td>\n",
       "      <td>NaN</td>\n",
       "      <td>NaN</td>\n",
       "      <td>NaN</td>\n",
       "      <td>27.86</td>\n",
       "      <td>52.07</td>\n",
       "      <td>3</td>\n",
       "    </tr>\n",
       "    <tr>\n",
       "      <th>1895-04-01</th>\n",
       "      <td>110</td>\n",
       "      <td>0</td>\n",
       "      <td>189504</td>\n",
       "      <td>1.99</td>\n",
       "      <td>52.90</td>\n",
       "      <td>-1.42</td>\n",
       "      <td>-1.42</td>\n",
       "      <td>-2.02</td>\n",
       "      <td>-1.42</td>\n",
       "      <td>27</td>\n",
       "      <td>345</td>\n",
       "      <td>-1.24</td>\n",
       "      <td>-1.62</td>\n",
       "      <td>-2.86</td>\n",
       "      <td>NaN</td>\n",
       "      <td>NaN</td>\n",
       "      <td>NaN</td>\n",
       "      <td>NaN</td>\n",
       "      <td>39.45</td>\n",
       "      <td>66.33</td>\n",
       "      <td>4</td>\n",
       "    </tr>\n",
       "    <tr>\n",
       "      <th>1895-05-01</th>\n",
       "      <td>110</td>\n",
       "      <td>0</td>\n",
       "      <td>189505</td>\n",
       "      <td>2.88</td>\n",
       "      <td>59.94</td>\n",
       "      <td>0.04</td>\n",
       "      <td>-1.23</td>\n",
       "      <td>0.12</td>\n",
       "      <td>-1.08</td>\n",
       "      <td>88</td>\n",
       "      <td>155</td>\n",
       "      <td>-0.03</td>\n",
       "      <td>-0.78</td>\n",
       "      <td>-1.15</td>\n",
       "      <td>NaN</td>\n",
       "      <td>NaN</td>\n",
       "      <td>NaN</td>\n",
       "      <td>NaN</td>\n",
       "      <td>47.05</td>\n",
       "      <td>72.81</td>\n",
       "      <td>5</td>\n",
       "    </tr>\n",
       "  </tbody>\n",
       "</table>\n",
       "</div>"
      ],
      "text/plain": [
       "            StateCode  Division  YearMonth   PCP   TAVG  PDSI  PHDI  ZNDX  \\\n",
       "Date                                                                        \n",
       "1895-01-01        110         0     189501  3.32  26.69  1.47  1.47  4.42   \n",
       "1895-02-01        110         0     189502  1.41  26.60 -0.45  0.87 -1.35   \n",
       "1895-03-01        110         0     189503  1.99  39.97 -0.83 -0.83 -1.28   \n",
       "1895-04-01        110         0     189504  1.99  52.90 -1.42 -1.42 -2.02   \n",
       "1895-05-01        110         0     189505  2.88  59.94  0.04 -1.23  0.12   \n",
       "\n",
       "            PMDI  CDD   HDD  SP01  SP02  SP03  SP06  SP09  SP12  SP24   TMIN  \\\n",
       "Date                                                                           \n",
       "1895-01-01  1.47    6  1017  1.79   NaN   NaN   NaN   NaN   NaN   NaN  16.52   \n",
       "1895-02-01  0.07    1   974 -1.69  0.52   NaN   NaN   NaN   NaN   NaN  15.57   \n",
       "1895-03-01 -0.83   13   692 -1.09 -2.11 -0.16   NaN   NaN   NaN   NaN  27.86   \n",
       "1895-04-01 -1.42   27   345 -1.24 -1.62 -2.86   NaN   NaN   NaN   NaN  39.45   \n",
       "1895-05-01 -1.08   88   155 -0.03 -0.78 -1.15   NaN   NaN   NaN   NaN  47.05   \n",
       "\n",
       "             TMAX  mon  \n",
       "Date                    \n",
       "1895-01-01  36.86    1  \n",
       "1895-02-01  37.65    2  \n",
       "1895-03-01  52.07    3  \n",
       "1895-04-01  66.33    4  \n",
       "1895-05-01  72.81    5  "
      ]
     },
     "execution_count": 264,
     "metadata": {},
     "output_type": "execute_result"
    }
   ],
   "source": [
    "df['mon'] = df.index.month\n",
    "df.head()"
   ]
  },
  {
   "cell_type": "code",
   "execution_count": 270,
   "metadata": {},
   "outputs": [
    {
     "data": {
      "text/plain": [
       "[<matplotlib.text.Text at 0x1119cf0f0>,\n",
       " <matplotlib.text.Text at 0x1119d5320>,\n",
       " <matplotlib.text.Text at 0x111a19438>,\n",
       " <matplotlib.text.Text at 0x111a19e10>,\n",
       " <matplotlib.text.Text at 0x111a13c88>,\n",
       " <matplotlib.text.Text at 0x111a1ff28>,\n",
       " <matplotlib.text.Text at 0x111a26940>]"
      ]
     },
     "execution_count": 270,
     "metadata": {},
     "output_type": "execute_result"
    },
    {
     "data": {
      "image/png": "[encoded data removed]",
      "text/plain": [
       "<matplotlib.figure.Figure at 0x1119abeb8>"
      ]
     },
     "metadata": {},
     "output_type": "display_data"
    }
   ],
   "source": [
    "ax = df.groupby(by=df.index.month)['TAVG'].mean().plot()\n",
    "ax.xaxis.set_ticklabels(['Jan', 'Feb', 'Mar', 'Apr', 'May', 'Jun', 'Jul', 'Aug', 'Sep', 'Oct', 'Nov', 'Dec'])"
   ]
  },
  {
   "cell_type": "code",
   "execution_count": null,
   "metadata": {
    "collapsed": true
   },
   "outputs": [],
   "source": []
  },
  {
   "cell_type": "markdown",
   "metadata": {},
   "source": [
    "# An important investigation\n",
    "\n",
    "Inside of the `climate` folder there is a file called `california.txt`: it's the same data, but only for California. Using this data, tell me **if droughts have been getting worse over the past 100 years.**"
   ]
  },
  {
   "cell_type": "code",
   "execution_count": null,
   "metadata": {
    "collapsed": true
   },
   "outputs": [],
   "source": []
  },
  {
   "cell_type": "code",
   "execution_count": null,
   "metadata": {
    "collapsed": true
   },
   "outputs": [],
   "source": []
  },
  {
   "cell_type": "markdown",
   "metadata": {},
   "source": [
    "# Making comparisons\n",
    "\n",
    "There are datasets for **five** other states. Please compare them in some way, building me a graphic. Even though we did it the other day, you do **not** need to combine them into one dataframe.\n",
    "\n",
    "Some basic ideas:\n",
    "\n",
    "- Graph their average temperatures over the year so we can see which one is the hottest\n",
    "- Graph the difference between the highs/lows over the year so we can see which has the hottest temperature swings\n",
    "- Graph their propensity to drought, highlighting the most drough-ridden state in a different color"
   ]
  },
  {
   "cell_type": "code",
   "execution_count": null,
   "metadata": {
    "collapsed": true
   },
   "outputs": [],
   "source": []
  }
 ],
 "metadata": {
  "kernelspec": {
   "display_name": "Python 3",
   "language": "python",
   "name": "python3"
  },
  "language_info": {
   "codemirror_mode": {
    "name": "ipython",
    "version": 3
   },
   "file_extension": ".py",
   "mimetype": "text/x-python",
   "name": "python",
   "nbconvert_exporter": "python",
   "pygments_lexer": "ipython3",
   "version": "3.6.1"
  }
 },
 "nbformat": 4,
 "nbformat_minor": 2
}
