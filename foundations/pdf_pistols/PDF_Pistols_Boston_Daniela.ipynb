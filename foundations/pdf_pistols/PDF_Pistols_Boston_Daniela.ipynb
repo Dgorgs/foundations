{
 "cells": [
  {
   "cell_type": "code",
   "execution_count": 8,
   "metadata": {},
   "outputs": [
    {
     "name": "stdout",
     "output_type": "stream",
     "text": [
      "LTC.FID.pdf                      PDF_Pistols_Boston_Daniela.ipynb\r\n",
      "LTC.FID.xlsx                     tabula-LTC.FID.csv\r\n"
     ]
    }
   ],
   "source": [
    "!ls"
   ]
  },
  {
   "cell_type": "code",
   "execution_count": 9,
   "metadata": {
    "collapsed": true
   },
   "outputs": [],
   "source": [
    "import pdfquery"
   ]
  },
  {
   "cell_type": "code",
   "execution_count": 11,
   "metadata": {
    "collapsed": true
   },
   "outputs": [],
   "source": [
    "pdf = pdfquery.PDFQuery(\"LTC.FID.pdf\")\n",
    "pdf.load()"
   ]
  },
  {
   "cell_type": "code",
   "execution_count": 13,
   "metadata": {},
   "outputs": [
    {
     "data": {
      "text/plain": [
       "{'Unnamed0': 'LTC - Approved',\n",
       " 'Unnamed1': 'LTC - Approved LTC - Denied',\n",
       " 'Unnamed2': 'LTC - Denied FID - Approved',\n",
       " 'Unnamed3': 'FID - Approved FID - Denied',\n",
       " 'Unnamed4': 'LTC - Approved',\n",
       " 'Unnamed5': '1,242 LTC - Approved',\n",
       " 'Unnamed6': '',\n",
       " 'Unnamed7': ''}"
      ]
     },
     "execution_count": 13,
     "metadata": {},
     "output_type": "execute_result"
    }
   ],
   "source": [
    "pdf = pdfquery.PDFQuery('LTC.FID.pdf')\n",
    "\n",
    "pdf.extract([\n",
    "\t('with_formatter', 'text'),\n",
    "\t('Unnamed0', 'LTPage[pageid=\\'1\\'] LTTextLineHorizontal:overlaps_bbox(\"379,540,447,557\")'),\n",
    "\t('Unnamed1', 'LTPage[pageid=\\'1\\'] LTTextLineHorizontal:overlaps_bbox(\"379,529,441,544\")'),\n",
    "\t('Unnamed2', 'LTPage[pageid=\\'1\\'] LTTextLineHorizontal:overlaps_bbox(\"380,516,450,530\")'),\n",
    "\t('Unnamed3', 'LTPage[pageid=\\'1\\'] LTTextLineHorizontal:overlaps_bbox(\"379,503,451,521\")'),\n",
    "\t('Unnamed4', 'LTPage[pageid=\\'1\\'] LTTextLineHorizontal:overlaps_bbox(\"455,542,510,554\")'),\n",
    "\t('Unnamed5', 'LTPage[pageid=\\'1\\'] LTTextLineHorizontal:overlaps_bbox(\"463,530,516,541\")'),\n",
    "\t('Unnamed6', 'LTPage[pageid=\\'1\\'] LTTextLineHorizontal:overlaps_bbox(\"466,519,520,530\")'),\n",
    "\t('Unnamed7', 'LTPage[pageid=\\'1\\'] LTTextLineHorizontal:overlaps_bbox(\"471,502,514,522\")')\n",
    "])"
   ]
  },
  {
   "cell_type": "code",
   "execution_count": 15,
   "metadata": {
    "collapsed": true
   },
   "outputs": [],
   "source": [
    "import pandas as pd"
   ]
  },
  {
   "cell_type": "code",
   "execution_count": 16,
   "metadata": {
    "collapsed": true
   },
   "outputs": [],
   "source": [
    "df = pd.read_excel(\"/Users/daniela/Desktop/pdf_pistols/LTC.FID.xlsx\")"
   ]
  },
  {
   "cell_type": "code",
   "execution_count": 17,
   "metadata": {},
   "outputs": [
    {
     "data": {
      "text/html": [
       "<div>\n",
       "<style>\n",
       "    .dataframe thead tr:only-child th {\n",
       "        text-align: right;\n",
       "    }\n",
       "\n",
       "    .dataframe thead th {\n",
       "        text-align: left;\n",
       "    }\n",
       "\n",
       "    .dataframe tbody tr th {\n",
       "        vertical-align: top;\n",
       "    }\n",
       "</style>\n",
       "<table border=\"1\" class=\"dataframe\">\n",
       "  <thead>\n",
       "    <tr style=\"text-align: right;\">\n",
       "      <th></th>\n",
       "      <th>LTC/FID Approvals and Denials</th>\n",
       "      <th>Unnamed: 1</th>\n",
       "      <th>Unnamed: 2</th>\n",
       "      <th>Unnamed: 3</th>\n",
       "      <th>Unnamed: 4</th>\n",
       "      <th>LTC/FID Approvals and Denials 2015 through 04/30/2017</th>\n",
       "      <th>Unnamed: 6</th>\n",
       "      <th>Unnamed: 7</th>\n",
       "      <th>Unnamed: 8</th>\n",
       "      <th>Unnamed: 9</th>\n",
       "    </tr>\n",
       "  </thead>\n",
       "  <tbody>\n",
       "    <tr>\n",
       "      <th>2015</th>\n",
       "      <td>2016</td>\n",
       "      <td>NaN</td>\n",
       "      <td>NaN</td>\n",
       "      <td>01/01/2017 - 04/30/2017</td>\n",
       "      <td>NaN</td>\n",
       "      <td>2015</td>\n",
       "      <td>NaN</td>\n",
       "      <td>2016.0</td>\n",
       "      <td>01/01/17 - 04/30/17</td>\n",
       "      <td>2015 to 4/30/17</td>\n",
       "    </tr>\n",
       "    <tr>\n",
       "      <th>January</th>\n",
       "      <td>January</td>\n",
       "      <td>NaN</td>\n",
       "      <td>NaN</td>\n",
       "      <td>January</td>\n",
       "      <td>LTC - Approved</td>\n",
       "      <td>1242</td>\n",
       "      <td>NaN</td>\n",
       "      <td>1972.0</td>\n",
       "      <td>579</td>\n",
       "      <td>3793</td>\n",
       "    </tr>\n",
       "    <tr>\n",
       "      <th>LTC</th>\n",
       "      <td>NaN</td>\n",
       "      <td>LTC</td>\n",
       "      <td>NaN</td>\n",
       "      <td>LTC</td>\n",
       "      <td>NaN</td>\n",
       "      <td>LTC - Denied</td>\n",
       "      <td>55.0</td>\n",
       "      <td>142.0</td>\n",
       "      <td>92</td>\n",
       "      <td>289</td>\n",
       "    </tr>\n",
       "    <tr>\n",
       "      <th>Approved</th>\n",
       "      <td>98</td>\n",
       "      <td>Approved</td>\n",
       "      <td>185</td>\n",
       "      <td>Approved</td>\n",
       "      <td>174</td>\n",
       "      <td>FID - Approved</td>\n",
       "      <td>70.0</td>\n",
       "      <td>110.0</td>\n",
       "      <td>49</td>\n",
       "      <td>229</td>\n",
       "    </tr>\n",
       "    <tr>\n",
       "      <th>Denied</th>\n",
       "      <td>9</td>\n",
       "      <td>Denied</td>\n",
       "      <td>16</td>\n",
       "      <td>Denied</td>\n",
       "      <td>21</td>\n",
       "      <td>FID - Denied</td>\n",
       "      <td>5.0</td>\n",
       "      <td>6.0</td>\n",
       "      <td>0</td>\n",
       "      <td>11</td>\n",
       "    </tr>\n",
       "  </tbody>\n",
       "</table>\n",
       "</div>"
      ],
      "text/plain": [
       "         LTC/FID Approvals and Denials Unnamed: 1 Unnamed: 2  \\\n",
       "2015                              2016        NaN        NaN   \n",
       "January                        January        NaN        NaN   \n",
       "LTC                                NaN        LTC        NaN   \n",
       "Approved                            98   Approved        185   \n",
       "Denied                               9     Denied         16   \n",
       "\n",
       "                       Unnamed: 3      Unnamed: 4  \\\n",
       "2015      01/01/2017 - 04/30/2017             NaN   \n",
       "January                   January  LTC - Approved   \n",
       "LTC                           LTC             NaN   \n",
       "Approved                 Approved             174   \n",
       "Denied                     Denied              21   \n",
       "\n",
       "         LTC/FID Approvals and Denials 2015 through 04/30/2017  Unnamed: 6  \\\n",
       "2015                                                   2015            NaN   \n",
       "January                                                1242            NaN   \n",
       "LTC                                            LTC - Denied           55.0   \n",
       "Approved                                     FID - Approved           70.0   \n",
       "Denied                                         FID - Denied            5.0   \n",
       "\n",
       "          Unnamed: 7           Unnamed: 8       Unnamed: 9  \n",
       "2015          2016.0  01/01/17 - 04/30/17  2015 to 4/30/17  \n",
       "January       1972.0                  579             3793  \n",
       "LTC            142.0                   92              289  \n",
       "Approved       110.0                   49              229  \n",
       "Denied           6.0                    0               11  "
      ]
     },
     "execution_count": 17,
     "metadata": {},
     "output_type": "execute_result"
    }
   ],
   "source": [
    "df.head() # looks a bit chaotic"
   ]
  },
  {
   "cell_type": "code",
   "execution_count": null,
   "metadata": {
    "collapsed": true
   },
   "outputs": [],
   "source": [
    "\n"
   ]
  },
  {
   "cell_type": "code",
   "execution_count": null,
   "metadata": {
    "collapsed": true
   },
   "outputs": [],
   "source": []
  }
 ],
 "metadata": {
  "kernelspec": {
   "display_name": "Python 3",
   "language": "python",
   "name": "python3"
  },
  "language_info": {
   "codemirror_mode": {
    "name": "ipython",
    "version": 3
   },
   "file_extension": ".py",
   "mimetype": "text/x-python",
   "name": "python",
   "nbconvert_exporter": "python",
   "pygments_lexer": "ipython3",
   "version": "3.6.1"
  }
 },
 "nbformat": 4,
 "nbformat_minor": 2
}
